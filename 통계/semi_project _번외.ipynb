{
 "cells": [
  {
   "cell_type": "code",
   "execution_count": 1,
   "id": "d0fbb523",
   "metadata": {},
   "outputs": [],
   "source": [
    "# %load ../include.py\n",
    "\n",
    "import pandas as pd\n",
    "import numpy as np\n",
    "import matplotlib.pyplot  as plt\n",
    "import matplotlib\n",
    "\n",
    "plt.rc('font', family='gulim') # For Windows\n",
    "matplotlib.rcParams['axes.unicode_minus'] = False \n",
    "\n"
   ]
  },
  {
   "cell_type": "code",
   "execution_count": 48,
   "id": "d5b8ebb1",
   "metadata": {},
   "outputs": [
    {
     "data": {
      "text/html": [
       "<div>\n",
       "<style scoped>\n",
       "    .dataframe tbody tr th:only-of-type {\n",
       "        vertical-align: middle;\n",
       "    }\n",
       "\n",
       "    .dataframe tbody tr th {\n",
       "        vertical-align: top;\n",
       "    }\n",
       "\n",
       "    .dataframe thead th {\n",
       "        text-align: right;\n",
       "    }\n",
       "</style>\n",
       "<table border=\"1\" class=\"dataframe\">\n",
       "  <thead>\n",
       "    <tr style=\"text-align: right;\">\n",
       "      <th></th>\n",
       "      <th>2009</th>\n",
       "      <th>2009.1</th>\n",
       "      <th>2009.2</th>\n",
       "      <th>2010</th>\n",
       "      <th>2010.1</th>\n",
       "      <th>2010.2</th>\n",
       "      <th>2011</th>\n",
       "      <th>2011.1</th>\n",
       "      <th>2011.2</th>\n",
       "      <th>2012</th>\n",
       "      <th>...</th>\n",
       "      <th>2016.2</th>\n",
       "      <th>2017</th>\n",
       "      <th>2017.1</th>\n",
       "      <th>2017.2</th>\n",
       "      <th>2018</th>\n",
       "      <th>2018.1</th>\n",
       "      <th>2018.2</th>\n",
       "      <th>2019</th>\n",
       "      <th>2019.1</th>\n",
       "      <th>2019.2</th>\n",
       "    </tr>\n",
       "  </thead>\n",
       "  <tbody>\n",
       "    <tr>\n",
       "      <th>0</th>\n",
       "      <td>혼인건수 (건)</td>\n",
       "      <td>이혼건수 (건)</td>\n",
       "      <td>주민등록인구수(연앙인구) (명)</td>\n",
       "      <td>혼인건수 (건)</td>\n",
       "      <td>이혼건수 (건)</td>\n",
       "      <td>주민등록인구수(연앙인구) (명)</td>\n",
       "      <td>혼인건수 (건)</td>\n",
       "      <td>이혼건수 (건)</td>\n",
       "      <td>주민등록인구수(연앙인구) (명)</td>\n",
       "      <td>혼인건수 (건)</td>\n",
       "      <td>...</td>\n",
       "      <td>주민등록인구수(연앙인구) (명)</td>\n",
       "      <td>혼인건수 (건)</td>\n",
       "      <td>이혼건수 (건)</td>\n",
       "      <td>주민등록인구수(연앙인구) (명)</td>\n",
       "      <td>혼인건수 (건)</td>\n",
       "      <td>이혼건수 (건)</td>\n",
       "      <td>주민등록인구수(연앙인구) (명)</td>\n",
       "      <td>혼인건수 (건)</td>\n",
       "      <td>이혼건수 (건)</td>\n",
       "      <td>주민등록인구수(연앙인구) (명)</td>\n",
       "    </tr>\n",
       "    <tr>\n",
       "      <th>1</th>\n",
       "      <td>300869</td>\n",
       "      <td>120296</td>\n",
       "      <td>50070582.0</td>\n",
       "      <td>317579</td>\n",
       "      <td>113042</td>\n",
       "      <td>50515666.0</td>\n",
       "      <td>321154</td>\n",
       "      <td>110671</td>\n",
       "      <td>50734284.0</td>\n",
       "      <td>327073</td>\n",
       "      <td>...</td>\n",
       "      <td>51112971.5</td>\n",
       "      <td>259340</td>\n",
       "      <td>104364</td>\n",
       "      <td>51230704.0</td>\n",
       "      <td>252339</td>\n",
       "      <td>106785</td>\n",
       "      <td>51344092.0</td>\n",
       "      <td>233911</td>\n",
       "      <td>109035</td>\n",
       "      <td>51337424.0</td>\n",
       "    </tr>\n",
       "  </tbody>\n",
       "</table>\n",
       "<p>2 rows × 33 columns</p>\n",
       "</div>"
      ],
      "text/plain": [
       "       2009    2009.1             2009.2      2010    2010.1  \\\n",
       "0  혼인건수 (건)  이혼건수 (건)  주민등록인구수(연앙인구) (명)  혼인건수 (건)  이혼건수 (건)   \n",
       "1    300869    120296         50070582.0    317579    113042   \n",
       "\n",
       "              2010.2      2011    2011.1             2011.2      2012  ...  \\\n",
       "0  주민등록인구수(연앙인구) (명)  혼인건수 (건)  이혼건수 (건)  주민등록인구수(연앙인구) (명)  혼인건수 (건)  ...   \n",
       "1         50515666.0    321154    110671         50734284.0    327073  ...   \n",
       "\n",
       "              2016.2      2017    2017.1             2017.2      2018  \\\n",
       "0  주민등록인구수(연앙인구) (명)  혼인건수 (건)  이혼건수 (건)  주민등록인구수(연앙인구) (명)  혼인건수 (건)   \n",
       "1         51112971.5    259340    104364         51230704.0    252339   \n",
       "\n",
       "     2018.1             2018.2      2019    2019.1             2019.2  \n",
       "0  이혼건수 (건)  주민등록인구수(연앙인구) (명)  혼인건수 (건)  이혼건수 (건)  주민등록인구수(연앙인구) (명)  \n",
       "1    106785         51344092.0    233911    109035         51337424.0  \n",
       "\n",
       "[2 rows x 33 columns]"
      ]
     },
     "execution_count": 48,
     "metadata": {},
     "output_type": "execute_result"
    }
   ],
   "source": [
    "df1=pd.read_csv('./혼인_및_이혼율_총계.csv',encoding='cp949')\n",
    "\n",
    "df1=df1.drop('행정구역별(1)',axis=1)\n",
    "df1"
   ]
  },
  {
   "cell_type": "code",
   "execution_count": null,
   "id": "5569c319",
   "metadata": {},
   "outputs": [],
   "source": [
    "[ df1.columns[i] for i in range(0,len(df1.columns),3) ]"
   ]
  },
  {
   "cell_type": "code",
   "execution_count": null,
   "id": "0c9cc207",
   "metadata": {},
   "outputs": [],
   "source": [
    "df2 = df1.copy()"
   ]
  },
  {
   "cell_type": "code",
   "execution_count": null,
   "id": "0000a0b2",
   "metadata": {},
   "outputs": [],
   "source": [
    "df2.columns = df2.iloc[0, :]\n",
    "df2.drop(index=[0], inplace=True)"
   ]
  },
  {
   "cell_type": "code",
   "execution_count": 94,
   "id": "19a8d33c",
   "metadata": {},
   "outputs": [
    {
     "data": {
      "text/html": [
       "<div>\n",
       "<style scoped>\n",
       "    .dataframe tbody tr th:only-of-type {\n",
       "        vertical-align: middle;\n",
       "    }\n",
       "\n",
       "    .dataframe tbody tr th {\n",
       "        vertical-align: top;\n",
       "    }\n",
       "\n",
       "    .dataframe thead th {\n",
       "        text-align: right;\n",
       "    }\n",
       "</style>\n",
       "<table border=\"1\" class=\"dataframe\">\n",
       "  <thead>\n",
       "    <tr style=\"text-align: right;\">\n",
       "      <th></th>\n",
       "      <th>혼인건수 (건)</th>\n",
       "      <th>이혼건수 (건)</th>\n",
       "      <th>주민등록인구수(연앙인구) (명)</th>\n",
       "      <th>혼인건수 (건)</th>\n",
       "      <th>이혼건수 (건)</th>\n",
       "      <th>주민등록인구수(연앙인구) (명)</th>\n",
       "      <th>혼인건수 (건)</th>\n",
       "      <th>이혼건수 (건)</th>\n",
       "      <th>주민등록인구수(연앙인구) (명)</th>\n",
       "      <th>혼인건수 (건)</th>\n",
       "      <th>...</th>\n",
       "      <th>주민등록인구수(연앙인구) (명)</th>\n",
       "      <th>혼인건수 (건)</th>\n",
       "      <th>이혼건수 (건)</th>\n",
       "      <th>주민등록인구수(연앙인구) (명)</th>\n",
       "      <th>혼인건수 (건)</th>\n",
       "      <th>이혼건수 (건)</th>\n",
       "      <th>주민등록인구수(연앙인구) (명)</th>\n",
       "      <th>혼인건수 (건)</th>\n",
       "      <th>이혼건수 (건)</th>\n",
       "      <th>주민등록인구수(연앙인구) (명)</th>\n",
       "    </tr>\n",
       "  </thead>\n",
       "  <tbody>\n",
       "    <tr>\n",
       "      <th>1</th>\n",
       "      <td>300869</td>\n",
       "      <td>120296</td>\n",
       "      <td>50070582.0</td>\n",
       "      <td>317579</td>\n",
       "      <td>113042</td>\n",
       "      <td>50515666.0</td>\n",
       "      <td>321154</td>\n",
       "      <td>110671</td>\n",
       "      <td>50734284.0</td>\n",
       "      <td>327073</td>\n",
       "      <td>...</td>\n",
       "      <td>51112971.5</td>\n",
       "      <td>259340</td>\n",
       "      <td>104364</td>\n",
       "      <td>51230704.0</td>\n",
       "      <td>252339</td>\n",
       "      <td>106785</td>\n",
       "      <td>51344092.0</td>\n",
       "      <td>233911</td>\n",
       "      <td>109035</td>\n",
       "      <td>51337424.0</td>\n",
       "    </tr>\n",
       "  </tbody>\n",
       "</table>\n",
       "<p>1 rows × 33 columns</p>\n",
       "</div>"
      ],
      "text/plain": [
       "0 혼인건수 (건) 이혼건수 (건) 주민등록인구수(연앙인구) (명) 혼인건수 (건) 이혼건수 (건) 주민등록인구수(연앙인구) (명)  \\\n",
       "1   300869   120296        50070582.0   317579   113042        50515666.0   \n",
       "\n",
       "0 혼인건수 (건) 이혼건수 (건) 주민등록인구수(연앙인구) (명) 혼인건수 (건)  ... 주민등록인구수(연앙인구) (명)  \\\n",
       "1   321154   110671        50734284.0   327073  ...        51112971.5   \n",
       "\n",
       "0 혼인건수 (건) 이혼건수 (건) 주민등록인구수(연앙인구) (명) 혼인건수 (건) 이혼건수 (건) 주민등록인구수(연앙인구) (명)  \\\n",
       "1   259340   104364        51230704.0   252339   106785        51344092.0   \n",
       "\n",
       "0 혼인건수 (건) 이혼건수 (건) 주민등록인구수(연앙인구) (명)  \n",
       "1   233911   109035        51337424.0  \n",
       "\n",
       "[1 rows x 33 columns]"
      ]
     },
     "execution_count": 94,
     "metadata": {},
     "output_type": "execute_result"
    }
   ],
   "source": [
    "df2m"
   ]
  },
  {
   "cell_type": "code",
   "execution_count": 58,
   "id": "dd8f8d99",
   "metadata": {
    "scrolled": true
   },
   "outputs": [
    {
     "data": {
      "text/plain": [
       "2009      0.005839\n",
       "2009.1    0.002335\n",
       "2009.2    0.971691\n",
       "2010      0.006163\n",
       "2010.1    0.002194\n",
       "2010.2    0.980328\n",
       "2011      0.006232\n",
       "2011.1    0.002148\n",
       "2011.2    0.984571\n",
       "2012      0.006347\n",
       "2012.1    0.002218\n",
       "2012.2    0.988724\n",
       "2013      0.006117\n",
       "2013.1    0.002172\n",
       "2013.2    0.992473\n",
       "2014      0.005779\n",
       "2014.1    0.002179\n",
       "2014.2    0.996091\n",
       "2015      0.005728\n",
       "2015.1    0.002058\n",
       "2015.2    1.000000\n",
       "2016      0.005363\n",
       "2016.1    0.002045\n",
       "2016.2    0.991920\n",
       "2017      0.005033\n",
       "2017.1    0.002025\n",
       "2017.2    0.994205\n",
       "2018      0.004897\n",
       "2018.1    0.002072\n",
       "2018.2    0.996405\n",
       "2019      0.004539\n",
       "2019.1    0.002116\n",
       "2019.2    0.996276\n",
       "Name: 1, dtype: float64"
      ]
     },
     "execution_count": 58,
     "metadata": {},
     "output_type": "execute_result"
    }
   ],
   "source": [
    "df1.loc[1, :].astype(float).apply(lambda x: x/max(df1.loc[1, :].astype(float)))"
   ]
  },
  {
   "cell_type": "code",
   "execution_count": null,
   "id": "a2d17e83",
   "metadata": {},
   "outputs": [],
   "source": [
    "sr= df1.loc[1, :].astype(float).apply(lambda x: x/max(sr))\n",
    "sr"
   ]
  },
  {
   "cell_type": "code",
   "execution_count": 57,
   "id": "e7cbd3c8",
   "metadata": {},
   "outputs": [
    {
     "data": {
      "text/plain": [
       "2009      0.005839\n",
       "2009.1    0.002335\n",
       "2009.2    0.971691\n",
       "2010      0.006163\n",
       "2010.1    0.002194\n",
       "2010.2    0.980328\n",
       "2011      0.006232\n",
       "2011.1    0.002148\n",
       "2011.2    0.984571\n",
       "2012      0.006347\n",
       "2012.1    0.002218\n",
       "2012.2    0.988724\n",
       "2013      0.006117\n",
       "2013.1    0.002172\n",
       "2013.2    0.992473\n",
       "2014      0.005779\n",
       "2014.1    0.002179\n",
       "2014.2    0.996091\n",
       "2015      0.005728\n",
       "2015.1    0.002058\n",
       "2015.2    1.000000\n",
       "2016      0.005363\n",
       "2016.1    0.002045\n",
       "2016.2    0.991920\n",
       "2017      0.005033\n",
       "2017.1    0.002025\n",
       "2017.2    0.994205\n",
       "2018      0.004897\n",
       "2018.1    0.002072\n",
       "2018.2    0.996405\n",
       "2019      0.004539\n",
       "2019.1    0.002116\n",
       "2019.2    0.996276\n",
       "Name: 1, dtype: float64"
      ]
     },
     "execution_count": 57,
     "metadata": {},
     "output_type": "execute_result"
    }
   ],
   "source": [
    "sr.apply(lambda x: x/max(sr))"
   ]
  },
  {
   "cell_type": "code",
   "execution_count": 4,
   "id": "d9bdd462",
   "metadata": {},
   "outputs": [],
   "source": [
    "df2 = pd.DataFrame()"
   ]
  },
  {
   "cell_type": "code",
   "execution_count": 5,
   "id": "16a32fef",
   "metadata": {},
   "outputs": [
    {
     "data": {
      "text/plain": [
       "2009               혼인건수 (건)\n",
       "2009.1             이혼건수 (건)\n",
       "2009.2    주민등록인구수(연앙인구) (명)\n",
       "Name: 0, dtype: object"
      ]
     },
     "execution_count": 5,
     "metadata": {},
     "output_type": "execute_result"
    }
   ],
   "source": [
    "df1.iloc[0,0:3]"
   ]
  },
  {
   "cell_type": "code",
   "execution_count": 6,
   "id": "bb3028de",
   "metadata": {},
   "outputs": [],
   "source": [
    "df2.index=df1.iloc[0,0:3]"
   ]
  },
  {
   "cell_type": "markdown",
   "id": "2fdffa5f",
   "metadata": {},
   "source": [
    "df2 = df1.loc[ :, [ df1.columns[i] for i in range(0,len(df1.columns),3) ]]\n",
    "df2"
   ]
  },
  {
   "cell_type": "code",
   "execution_count": 7,
   "id": "1b29e707",
   "metadata": {},
   "outputs": [],
   "source": [
    "# df2[혼인건수, 2009] , df2[이혼건수, 2009]\n",
    "for col in [ df1.columns[i] for i in range(0,len(df1.columns),3) ]:\n",
    "    df2.loc[df2.index[0], col] = df1.loc[1, col]   # df2.loc[위치할 index,위치할 컬럼]=df1.loc[가져올 index, 가져올 컬럼] 위치할 컬럼이 None이면 가져올 컬럼에서 컬럼도\n",
    "    for index in range(1,3):                        #                                                                      같이 가져와서 설정\n",
    "        col_1 = col + '.' + str(index)\n",
    "        df2.loc[df2.index[index],col] = df1.loc[1, col_1]   #  df2.index[원하는 값을 설정(index)]"
   ]
  },
  {
   "cell_type": "code",
   "execution_count": null,
   "id": "b1b24d69",
   "metadata": {},
   "outputs": [],
   "source": [
    "df2.rename(index={'혼인건수 (건)':'혼인건수','이혼건수 (건)':'이혼건수','주민등록인구수(연앙인구) (명)':'주민등록인구수'},inplace=True)\n",
    "df2 #첫 for 문장으로 2009의 혼인값 가져오고 다음 for 문장으로 2009.1의 (이혼건수)의 값과 2009.2의 값을 가져온다"
   ]
  },
  {
   "cell_type": "code",
   "execution_count": 72,
   "id": "249d22a5",
   "metadata": {},
   "outputs": [
    {
     "data": {
      "text/html": [
       "<div>\n",
       "<style scoped>\n",
       "    .dataframe tbody tr th:only-of-type {\n",
       "        vertical-align: middle;\n",
       "    }\n",
       "\n",
       "    .dataframe tbody tr th {\n",
       "        vertical-align: top;\n",
       "    }\n",
       "\n",
       "    .dataframe thead th {\n",
       "        text-align: right;\n",
       "    }\n",
       "</style>\n",
       "<table border=\"1\" class=\"dataframe\">\n",
       "  <thead>\n",
       "    <tr style=\"text-align: right;\">\n",
       "      <th></th>\n",
       "      <th>2009</th>\n",
       "      <th>2010</th>\n",
       "      <th>2011</th>\n",
       "      <th>2012</th>\n",
       "      <th>2013</th>\n",
       "      <th>2014</th>\n",
       "      <th>2015</th>\n",
       "      <th>2016</th>\n",
       "      <th>2017</th>\n",
       "      <th>2018</th>\n",
       "      <th>2019</th>\n",
       "    </tr>\n",
       "    <tr>\n",
       "      <th>0</th>\n",
       "      <th></th>\n",
       "      <th></th>\n",
       "      <th></th>\n",
       "      <th></th>\n",
       "      <th></th>\n",
       "      <th></th>\n",
       "      <th></th>\n",
       "      <th></th>\n",
       "      <th></th>\n",
       "      <th></th>\n",
       "      <th></th>\n",
       "    </tr>\n",
       "  </thead>\n",
       "  <tbody>\n",
       "    <tr>\n",
       "      <th>혼인건수</th>\n",
       "      <td>0.005959</td>\n",
       "      <td>0.006234</td>\n",
       "      <td>0.006277</td>\n",
       "      <td>0.006365</td>\n",
       "      <td>0.006112</td>\n",
       "      <td>0.005756</td>\n",
       "      <td>0.005684</td>\n",
       "      <td>0.005366</td>\n",
       "      <td>0.005027</td>\n",
       "      <td>0.004881</td>\n",
       "      <td>0.004526</td>\n",
       "    </tr>\n",
       "    <tr>\n",
       "      <th>이혼건수</th>\n",
       "      <td>0.002382</td>\n",
       "      <td>0.002219</td>\n",
       "      <td>0.002163</td>\n",
       "      <td>0.002224</td>\n",
       "      <td>0.002171</td>\n",
       "      <td>0.002170</td>\n",
       "      <td>0.002042</td>\n",
       "      <td>0.002046</td>\n",
       "      <td>0.002023</td>\n",
       "      <td>0.002065</td>\n",
       "      <td>0.002110</td>\n",
       "    </tr>\n",
       "    <tr>\n",
       "      <th>주민등록인구수</th>\n",
       "      <td>0.991659</td>\n",
       "      <td>0.991548</td>\n",
       "      <td>0.991560</td>\n",
       "      <td>0.991411</td>\n",
       "      <td>0.991717</td>\n",
       "      <td>0.992074</td>\n",
       "      <td>0.992274</td>\n",
       "      <td>0.992588</td>\n",
       "      <td>0.992951</td>\n",
       "      <td>0.993054</td>\n",
       "      <td>0.993364</td>\n",
       "    </tr>\n",
       "  </tbody>\n",
       "</table>\n",
       "</div>"
      ],
      "text/plain": [
       "             2009      2010      2011      2012      2013      2014      2015  \\\n",
       "0                                                                               \n",
       "혼인건수     0.005959  0.006234  0.006277  0.006365  0.006112  0.005756  0.005684   \n",
       "이혼건수     0.002382  0.002219  0.002163  0.002224  0.002171  0.002170  0.002042   \n",
       "주민등록인구수  0.991659  0.991548  0.991560  0.991411  0.991717  0.992074  0.992274   \n",
       "\n",
       "             2016      2017      2018      2019  \n",
       "0                                                \n",
       "혼인건수     0.005366  0.005027  0.004881  0.004526  \n",
       "이혼건수     0.002046  0.002023  0.002065  0.002110  \n",
       "주민등록인구수  0.992588  0.992951  0.993054  0.993364  "
      ]
     },
     "execution_count": 72,
     "metadata": {},
     "output_type": "execute_result"
    }
   ],
   "source": [
    "df2.apply(lambda x : x/sum(x), axis=0)"
   ]
  },
  {
   "cell_type": "code",
   "execution_count": null,
   "id": "878cae12",
   "metadata": {},
   "outputs": [],
   "source": [
    "sum(df2.sum())"
   ]
  },
  {
   "cell_type": "code",
   "execution_count": 79,
   "id": "9b0c3b9b",
   "metadata": {},
   "outputs": [
    {
     "data": {
      "text/plain": [
       "Index(['혼인건수', '이혼건수', '주민등록인구수'], dtype='object', name=0)"
      ]
     },
     "execution_count": 79,
     "metadata": {},
     "output_type": "execute_result"
    }
   ],
   "source": [
    "df2.index"
   ]
  },
  {
   "cell_type": "code",
   "execution_count": null,
   "id": "791ecefd",
   "metadata": {},
   "outputs": [],
   "source": [
    "# col_list = []\n",
    "# for col in df2.columns :\n",
    "#     coli_list.append(col)\n",
    "col_list = [ df2.loc[index,col] for index in df2.index for col in df2.columns]\n",
    "col_list"
   ]
  },
  {
   "cell_type": "code",
   "execution_count": 80,
   "id": "ac3e08f7",
   "metadata": {},
   "outputs": [
    {
     "data": {
      "text/plain": [
       "[300869.0,\n",
       " 317579.0,\n",
       " 321154.0,\n",
       " 327073.0,\n",
       " 315193.0,\n",
       " 297783.0,\n",
       " 295167.0,\n",
       " 276328.0,\n",
       " 259340.0,\n",
       " 252339.0,\n",
       " 233911.0,\n",
       " 120296.0,\n",
       " 113042.0,\n",
       " 110671.0,\n",
       " 114316.0,\n",
       " 111937.0,\n",
       " 112285.0,\n",
       " 106059.0,\n",
       " 105375.0,\n",
       " 104364.0,\n",
       " 106785.0,\n",
       " 109035.0,\n",
       " 50070582.0,\n",
       " 50515666.0,\n",
       " 50734284.0,\n",
       " 50948272.0,\n",
       " 51141463.0,\n",
       " 51327916.0,\n",
       " 51529338.0,\n",
       " 51112971.5,\n",
       " 51230704.0,\n",
       " 51344092.0,\n",
       " 51337424.0]"
      ]
     },
     "execution_count": 80,
     "metadata": {},
     "output_type": "execute_result"
    }
   ],
   "source": [
    "for index in df2.index:\n",
    "    for col in df2.columns:\n",
    "        col_list.append(df2.loc[index,col])"
   ]
  },
  {
   "cell_type": "code",
   "execution_count": 81,
   "id": "ac016e42",
   "metadata": {},
   "outputs": [],
   "source": [
    "df = df2.copy()"
   ]
  },
  {
   "cell_type": "code",
   "execution_count": null,
   "id": "08de5efa",
   "metadata": {},
   "outputs": [],
   "source": [
    "df['테스트'] = [ None for i in df.index]"
   ]
  },
  {
   "cell_type": "code",
   "execution_count": null,
   "id": "e30c4995",
   "metadata": {},
   "outputs": [],
   "source": [
    "df['aa'] = ''"
   ]
  },
  {
   "cell_type": "code",
   "execution_count": 89,
   "id": "d6cb6f6d",
   "metadata": {},
   "outputs": [
    {
     "ename": "ValueError",
     "evalue": "Length mismatch: Expected axis has 3 elements, new values have 4 elements",
     "output_type": "error",
     "traceback": [
      "\u001b[1;31m---------------------------------------------------------------------------\u001b[0m",
      "\u001b[1;31mValueError\u001b[0m                                Traceback (most recent call last)",
      "\u001b[1;32m~\\AppData\\Local\\Temp\\ipykernel_11924\\3337816501.py\u001b[0m in \u001b[0;36m<module>\u001b[1;34m\u001b[0m\n\u001b[1;32m----> 1\u001b[1;33m \u001b[0mdf\u001b[0m\u001b[1;33m.\u001b[0m\u001b[0mindex\u001b[0m \u001b[1;33m=\u001b[0m \u001b[1;33m[\u001b[0m\u001b[1;34m'1'\u001b[0m\u001b[1;33m,\u001b[0m\u001b[1;34m'2'\u001b[0m\u001b[1;33m,\u001b[0m\u001b[1;34m'3'\u001b[0m\u001b[1;33m,\u001b[0m\u001b[1;34m'4'\u001b[0m\u001b[1;33m]\u001b[0m\u001b[1;33m\u001b[0m\u001b[1;33m\u001b[0m\u001b[0m\n\u001b[0m\u001b[0;32m      2\u001b[0m \u001b[0mdf\u001b[0m\u001b[1;33m\u001b[0m\u001b[1;33m\u001b[0m\u001b[0m\n",
      "\u001b[1;32mC:\\ProgramData\\Anaconda3\\lib\\site-packages\\pandas\\core\\generic.py\u001b[0m in \u001b[0;36m__setattr__\u001b[1;34m(self, name, value)\u001b[0m\n\u001b[0;32m   5586\u001b[0m         \u001b[1;32mtry\u001b[0m\u001b[1;33m:\u001b[0m\u001b[1;33m\u001b[0m\u001b[1;33m\u001b[0m\u001b[0m\n\u001b[0;32m   5587\u001b[0m             \u001b[0mobject\u001b[0m\u001b[1;33m.\u001b[0m\u001b[0m__getattribute__\u001b[0m\u001b[1;33m(\u001b[0m\u001b[0mself\u001b[0m\u001b[1;33m,\u001b[0m \u001b[0mname\u001b[0m\u001b[1;33m)\u001b[0m\u001b[1;33m\u001b[0m\u001b[1;33m\u001b[0m\u001b[0m\n\u001b[1;32m-> 5588\u001b[1;33m             \u001b[1;32mreturn\u001b[0m \u001b[0mobject\u001b[0m\u001b[1;33m.\u001b[0m\u001b[0m__setattr__\u001b[0m\u001b[1;33m(\u001b[0m\u001b[0mself\u001b[0m\u001b[1;33m,\u001b[0m \u001b[0mname\u001b[0m\u001b[1;33m,\u001b[0m \u001b[0mvalue\u001b[0m\u001b[1;33m)\u001b[0m\u001b[1;33m\u001b[0m\u001b[1;33m\u001b[0m\u001b[0m\n\u001b[0m\u001b[0;32m   5589\u001b[0m         \u001b[1;32mexcept\u001b[0m \u001b[0mAttributeError\u001b[0m\u001b[1;33m:\u001b[0m\u001b[1;33m\u001b[0m\u001b[1;33m\u001b[0m\u001b[0m\n\u001b[0;32m   5590\u001b[0m             \u001b[1;32mpass\u001b[0m\u001b[1;33m\u001b[0m\u001b[1;33m\u001b[0m\u001b[0m\n",
      "\u001b[1;32mC:\\ProgramData\\Anaconda3\\lib\\site-packages\\pandas\\_libs\\properties.pyx\u001b[0m in \u001b[0;36mpandas._libs.properties.AxisProperty.__set__\u001b[1;34m()\u001b[0m\n",
      "\u001b[1;32mC:\\ProgramData\\Anaconda3\\lib\\site-packages\\pandas\\core\\generic.py\u001b[0m in \u001b[0;36m_set_axis\u001b[1;34m(self, axis, labels)\u001b[0m\n\u001b[0;32m    767\u001b[0m     \u001b[1;32mdef\u001b[0m \u001b[0m_set_axis\u001b[0m\u001b[1;33m(\u001b[0m\u001b[0mself\u001b[0m\u001b[1;33m,\u001b[0m \u001b[0maxis\u001b[0m\u001b[1;33m:\u001b[0m \u001b[0mint\u001b[0m\u001b[1;33m,\u001b[0m \u001b[0mlabels\u001b[0m\u001b[1;33m:\u001b[0m \u001b[0mIndex\u001b[0m\u001b[1;33m)\u001b[0m \u001b[1;33m->\u001b[0m \u001b[1;32mNone\u001b[0m\u001b[1;33m:\u001b[0m\u001b[1;33m\u001b[0m\u001b[1;33m\u001b[0m\u001b[0m\n\u001b[0;32m    768\u001b[0m         \u001b[0mlabels\u001b[0m \u001b[1;33m=\u001b[0m \u001b[0mensure_index\u001b[0m\u001b[1;33m(\u001b[0m\u001b[0mlabels\u001b[0m\u001b[1;33m)\u001b[0m\u001b[1;33m\u001b[0m\u001b[1;33m\u001b[0m\u001b[0m\n\u001b[1;32m--> 769\u001b[1;33m         \u001b[0mself\u001b[0m\u001b[1;33m.\u001b[0m\u001b[0m_mgr\u001b[0m\u001b[1;33m.\u001b[0m\u001b[0mset_axis\u001b[0m\u001b[1;33m(\u001b[0m\u001b[0maxis\u001b[0m\u001b[1;33m,\u001b[0m \u001b[0mlabels\u001b[0m\u001b[1;33m)\u001b[0m\u001b[1;33m\u001b[0m\u001b[1;33m\u001b[0m\u001b[0m\n\u001b[0m\u001b[0;32m    770\u001b[0m         \u001b[0mself\u001b[0m\u001b[1;33m.\u001b[0m\u001b[0m_clear_item_cache\u001b[0m\u001b[1;33m(\u001b[0m\u001b[1;33m)\u001b[0m\u001b[1;33m\u001b[0m\u001b[1;33m\u001b[0m\u001b[0m\n\u001b[0;32m    771\u001b[0m \u001b[1;33m\u001b[0m\u001b[0m\n",
      "\u001b[1;32mC:\\ProgramData\\Anaconda3\\lib\\site-packages\\pandas\\core\\internals\\managers.py\u001b[0m in \u001b[0;36mset_axis\u001b[1;34m(self, axis, new_labels)\u001b[0m\n\u001b[0;32m    212\u001b[0m     \u001b[1;32mdef\u001b[0m \u001b[0mset_axis\u001b[0m\u001b[1;33m(\u001b[0m\u001b[0mself\u001b[0m\u001b[1;33m,\u001b[0m \u001b[0maxis\u001b[0m\u001b[1;33m:\u001b[0m \u001b[0mint\u001b[0m\u001b[1;33m,\u001b[0m \u001b[0mnew_labels\u001b[0m\u001b[1;33m:\u001b[0m \u001b[0mIndex\u001b[0m\u001b[1;33m)\u001b[0m \u001b[1;33m->\u001b[0m \u001b[1;32mNone\u001b[0m\u001b[1;33m:\u001b[0m\u001b[1;33m\u001b[0m\u001b[1;33m\u001b[0m\u001b[0m\n\u001b[0;32m    213\u001b[0m         \u001b[1;31m# Caller is responsible for ensuring we have an Index object.\u001b[0m\u001b[1;33m\u001b[0m\u001b[1;33m\u001b[0m\u001b[0m\n\u001b[1;32m--> 214\u001b[1;33m         \u001b[0mself\u001b[0m\u001b[1;33m.\u001b[0m\u001b[0m_validate_set_axis\u001b[0m\u001b[1;33m(\u001b[0m\u001b[0maxis\u001b[0m\u001b[1;33m,\u001b[0m \u001b[0mnew_labels\u001b[0m\u001b[1;33m)\u001b[0m\u001b[1;33m\u001b[0m\u001b[1;33m\u001b[0m\u001b[0m\n\u001b[0m\u001b[0;32m    215\u001b[0m         \u001b[0mself\u001b[0m\u001b[1;33m.\u001b[0m\u001b[0maxes\u001b[0m\u001b[1;33m[\u001b[0m\u001b[0maxis\u001b[0m\u001b[1;33m]\u001b[0m \u001b[1;33m=\u001b[0m \u001b[0mnew_labels\u001b[0m\u001b[1;33m\u001b[0m\u001b[1;33m\u001b[0m\u001b[0m\n\u001b[0;32m    216\u001b[0m \u001b[1;33m\u001b[0m\u001b[0m\n",
      "\u001b[1;32mC:\\ProgramData\\Anaconda3\\lib\\site-packages\\pandas\\core\\internals\\base.py\u001b[0m in \u001b[0;36m_validate_set_axis\u001b[1;34m(self, axis, new_labels)\u001b[0m\n\u001b[0;32m     67\u001b[0m \u001b[1;33m\u001b[0m\u001b[0m\n\u001b[0;32m     68\u001b[0m         \u001b[1;32melif\u001b[0m \u001b[0mnew_len\u001b[0m \u001b[1;33m!=\u001b[0m \u001b[0mold_len\u001b[0m\u001b[1;33m:\u001b[0m\u001b[1;33m\u001b[0m\u001b[1;33m\u001b[0m\u001b[0m\n\u001b[1;32m---> 69\u001b[1;33m             raise ValueError(\n\u001b[0m\u001b[0;32m     70\u001b[0m                 \u001b[1;34mf\"Length mismatch: Expected axis has {old_len} elements, new \"\u001b[0m\u001b[1;33m\u001b[0m\u001b[1;33m\u001b[0m\u001b[0m\n\u001b[0;32m     71\u001b[0m                 \u001b[1;34mf\"values have {new_len} elements\"\u001b[0m\u001b[1;33m\u001b[0m\u001b[1;33m\u001b[0m\u001b[0m\n",
      "\u001b[1;31mValueError\u001b[0m: Length mismatch: Expected axis has 3 elements, new values have 4 elements"
     ]
    }
   ],
   "source": [
    "df.index = ['1','2','3','4']\n",
    "df"
   ]
  },
  {
   "cell_type": "code",
   "execution_count": 71,
   "id": "834e6b3a",
   "metadata": {
    "scrolled": false
   },
   "outputs": [
    {
     "data": {
      "text/html": [
       "<div>\n",
       "<style scoped>\n",
       "    .dataframe tbody tr th:only-of-type {\n",
       "        vertical-align: middle;\n",
       "    }\n",
       "\n",
       "    .dataframe tbody tr th {\n",
       "        vertical-align: top;\n",
       "    }\n",
       "\n",
       "    .dataframe thead th {\n",
       "        text-align: right;\n",
       "    }\n",
       "</style>\n",
       "<table border=\"1\" class=\"dataframe\">\n",
       "  <thead>\n",
       "    <tr style=\"text-align: right;\">\n",
       "      <th></th>\n",
       "      <th>2009</th>\n",
       "      <th>2010</th>\n",
       "      <th>2011</th>\n",
       "      <th>2012</th>\n",
       "      <th>2013</th>\n",
       "      <th>2014</th>\n",
       "      <th>2015</th>\n",
       "      <th>2016</th>\n",
       "      <th>2017</th>\n",
       "      <th>2018</th>\n",
       "      <th>2019</th>\n",
       "    </tr>\n",
       "    <tr>\n",
       "      <th>0</th>\n",
       "      <th></th>\n",
       "      <th></th>\n",
       "      <th></th>\n",
       "      <th></th>\n",
       "      <th></th>\n",
       "      <th></th>\n",
       "      <th></th>\n",
       "      <th></th>\n",
       "      <th></th>\n",
       "      <th></th>\n",
       "      <th></th>\n",
       "    </tr>\n",
       "  </thead>\n",
       "  <tbody>\n",
       "    <tr>\n",
       "      <th>혼인건수</th>\n",
       "      <td>566004482.5</td>\n",
       "      <td>566021192.5</td>\n",
       "      <td>566024767.5</td>\n",
       "      <td>566030686.5</td>\n",
       "      <td>566018806.5</td>\n",
       "      <td>566001396.5</td>\n",
       "      <td>565998780.5</td>\n",
       "      <td>565979941.5</td>\n",
       "      <td>565962953.5</td>\n",
       "      <td>565955952.5</td>\n",
       "      <td>565937524.5</td>\n",
       "    </tr>\n",
       "    <tr>\n",
       "      <th>이혼건수</th>\n",
       "      <td>565823909.5</td>\n",
       "      <td>565816655.5</td>\n",
       "      <td>565814284.5</td>\n",
       "      <td>565817929.5</td>\n",
       "      <td>565815550.5</td>\n",
       "      <td>565815898.5</td>\n",
       "      <td>565809672.5</td>\n",
       "      <td>565808988.5</td>\n",
       "      <td>565807977.5</td>\n",
       "      <td>565810398.5</td>\n",
       "      <td>565812648.5</td>\n",
       "    </tr>\n",
       "    <tr>\n",
       "      <th>주민등록인구수</th>\n",
       "      <td>615774195.5</td>\n",
       "      <td>616219279.5</td>\n",
       "      <td>616437897.5</td>\n",
       "      <td>616651885.5</td>\n",
       "      <td>616845076.5</td>\n",
       "      <td>617031529.5</td>\n",
       "      <td>617232951.5</td>\n",
       "      <td>616816585.0</td>\n",
       "      <td>616934317.5</td>\n",
       "      <td>617047705.5</td>\n",
       "      <td>617041037.5</td>\n",
       "    </tr>\n",
       "  </tbody>\n",
       "</table>\n",
       "</div>"
      ],
      "text/plain": [
       "                2009         2010         2011         2012         2013  \\\n",
       "0                                                                          \n",
       "혼인건수     566004482.5  566021192.5  566024767.5  566030686.5  566018806.5   \n",
       "이혼건수     565823909.5  565816655.5  565814284.5  565817929.5  565815550.5   \n",
       "주민등록인구수  615774195.5  616219279.5  616437897.5  616651885.5  616845076.5   \n",
       "\n",
       "                2014         2015         2016         2017         2018  \\\n",
       "0                                                                          \n",
       "혼인건수     566001396.5  565998780.5  565979941.5  565962953.5  565955952.5   \n",
       "이혼건수     565815898.5  565809672.5  565808988.5  565807977.5  565810398.5   \n",
       "주민등록인구수  617031529.5  617232951.5  616816585.0  616934317.5  617047705.5   \n",
       "\n",
       "                2019  \n",
       "0                     \n",
       "혼인건수     565937524.5  \n",
       "이혼건수     565812648.5  \n",
       "주민등록인구수  617041037.5  "
      ]
     },
     "execution_count": 71,
     "metadata": {},
     "output_type": "execute_result"
    }
   ],
   "source": [
    "df2.applymap(lambda a: func(a))"
   ]
  },
  {
   "cell_type": "code",
   "execution_count": 9,
   "id": "03f9f1a6",
   "metadata": {},
   "outputs": [],
   "source": [
    "ddf2=df2.drop('주민등록인구수')\n",
    "#df3=ddf2.drop('혼인건수 (건)')\n",
    "df3=df2.iloc[0,:] #위와 같음\n",
    "ddf3=df2.iloc[1,:]"
   ]
  },
  {
   "cell_type": "code",
   "execution_count": 10,
   "id": "9f192ccb",
   "metadata": {
    "scrolled": true
   },
   "outputs": [
    {
     "data": {
      "image/png": "[encoded data removed]",
      "text/plain": [
       "<Figure size 640x480 with 1 Axes>"
      ]
     },
     "metadata": {},
     "output_type": "display_data"
    }
   ],
   "source": [
    "df2=df2.astype(float)\n",
    "plt.rc('font', family='Malgun Gothic')\n",
    "plt.pie(x=[df2.loc['혼인건수','2009'],df2.loc['이혼건수','2009'],df2.loc['주민등록인구수','2009']],labels=['혼인건수','이혼건수','주민등록인구수'],autopct='%0.1f%%')\n",
    "plt.show()"
   ]
  },
  {
   "cell_type": "code",
   "execution_count": 11,
   "id": "6816ec4b",
   "metadata": {},
   "outputs": [
    {
     "data": {
      "image/png": "[encoded data removed]",
      "text/plain": [
       "<Figure size 640x480 with 1 Axes>"
      ]
     },
     "metadata": {},
     "output_type": "display_data"
    }
   ],
   "source": [
    "df2=df2.astype(float)\n",
    "plt.rc('font', family='Malgun Gothic')\n",
    "plt.pie(x=[df2.loc['혼인건수','2019'],df2.loc['이혼건수','2019'],df2.loc['주민등록인구수','2019']],labels=['혼인건수','이혼건수','주민등록인구수'],autopct='%0.1f%%')\n",
    "plt.show()"
   ]
  },
  {
   "cell_type": "code",
   "execution_count": 12,
   "id": "e676e105",
   "metadata": {},
   "outputs": [
    {
     "data": {
      "text/plain": [
       "<AxesSubplot:>"
      ]
     },
     "execution_count": 12,
     "metadata": {},
     "output_type": "execute_result"
    },
    {
     "data": {
      "image/png": "[encoded data removed]",
      "text/plain": [
       "<Figure size 640x480 with 1 Axes>"
      ]
     },
     "metadata": {},
     "output_type": "display_data"
    }
   ],
   "source": [
    "ddf2 = ddf2.astype(float)\n",
    "\n",
    "ddf2.T.plot()"
   ]
  },
  {
   "cell_type": "code",
   "execution_count": 13,
   "id": "2b13b156",
   "metadata": {},
   "outputs": [
    {
     "data": {
      "text/plain": [
       "<bound method Series.info of 2009    300869\n",
       "2010    317579\n",
       "2011    321154\n",
       "2012    327073\n",
       "2013    315193\n",
       "2014    297783\n",
       "2015    295167\n",
       "2016    276328\n",
       "2017    259340\n",
       "2018    252339\n",
       "2019    233911\n",
       "Name: 혼인건수, dtype: object>"
      ]
     },
     "execution_count": 13,
     "metadata": {},
     "output_type": "execute_result"
    }
   ],
   "source": [
    "pd.DataFrame=df3\n",
    "df3.info"
   ]
  },
  {
   "cell_type": "code",
   "execution_count": 14,
   "id": "eedfa6c8",
   "metadata": {
    "scrolled": false
   },
   "outputs": [
    {
     "data": {
      "text/plain": [
       "<AxesSubplot:>"
      ]
     },
     "execution_count": 14,
     "metadata": {},
     "output_type": "execute_result"
    },
    {
     "data": {
      "image/png": "[encoded data removed]",
      "text/plain": [
       "<Figure size 640x480 with 1 Axes>"
      ]
     },
     "metadata": {},
     "output_type": "display_data"
    }
   ],
   "source": [
    "df3 = df3.astype(float)\n",
    "df3.T.plot()  #혼인 건수"
   ]
  },
  {
   "cell_type": "code",
   "execution_count": 15,
   "id": "dda483bd",
   "metadata": {},
   "outputs": [
    {
     "data": {
      "text/plain": [
       "<AxesSubplot:>"
      ]
     },
     "execution_count": 15,
     "metadata": {},
     "output_type": "execute_result"
    },
    {
     "data": {
      "image/png": "[encoded data removed]",
      "text/plain": [
       "<Figure size 640x480 with 1 Axes>"
      ]
     },
     "metadata": {},
     "output_type": "display_data"
    }
   ],
   "source": [
    "ddf3=ddf3.astype(float)\n",
    "ddf3.T.plot()# 이혼 건수"
   ]
  },
  {
   "cell_type": "code",
   "execution_count": 16,
   "id": "c473257f",
   "metadata": {},
   "outputs": [
    {
     "data": {
      "text/html": [
       "<div>\n",
       "<style scoped>\n",
       "    .dataframe tbody tr th:only-of-type {\n",
       "        vertical-align: middle;\n",
       "    }\n",
       "\n",
       "    .dataframe tbody tr th {\n",
       "        vertical-align: top;\n",
       "    }\n",
       "\n",
       "    .dataframe thead th {\n",
       "        text-align: right;\n",
       "    }\n",
       "</style>\n",
       "<table border=\"1\" class=\"dataframe\">\n",
       "  <thead>\n",
       "    <tr style=\"text-align: right;\">\n",
       "      <th></th>\n",
       "      <th>혼인건수</th>\n",
       "      <th>이혼건수</th>\n",
       "      <th>주민등록인구수</th>\n",
       "    </tr>\n",
       "  </thead>\n",
       "  <tbody>\n",
       "    <tr>\n",
       "      <th>2009</th>\n",
       "      <td>300869.0</td>\n",
       "      <td>120296.0</td>\n",
       "      <td>50070582.0</td>\n",
       "    </tr>\n",
       "    <tr>\n",
       "      <th>2010</th>\n",
       "      <td>317579.0</td>\n",
       "      <td>113042.0</td>\n",
       "      <td>50515666.0</td>\n",
       "    </tr>\n",
       "    <tr>\n",
       "      <th>2011</th>\n",
       "      <td>321154.0</td>\n",
       "      <td>110671.0</td>\n",
       "      <td>50734284.0</td>\n",
       "    </tr>\n",
       "    <tr>\n",
       "      <th>2012</th>\n",
       "      <td>327073.0</td>\n",
       "      <td>114316.0</td>\n",
       "      <td>50948272.0</td>\n",
       "    </tr>\n",
       "    <tr>\n",
       "      <th>2013</th>\n",
       "      <td>315193.0</td>\n",
       "      <td>111937.0</td>\n",
       "      <td>51141463.0</td>\n",
       "    </tr>\n",
       "    <tr>\n",
       "      <th>2014</th>\n",
       "      <td>297783.0</td>\n",
       "      <td>112285.0</td>\n",
       "      <td>51327916.0</td>\n",
       "    </tr>\n",
       "    <tr>\n",
       "      <th>2015</th>\n",
       "      <td>295167.0</td>\n",
       "      <td>106059.0</td>\n",
       "      <td>51529338.0</td>\n",
       "    </tr>\n",
       "    <tr>\n",
       "      <th>2016</th>\n",
       "      <td>276328.0</td>\n",
       "      <td>105375.0</td>\n",
       "      <td>51112971.5</td>\n",
       "    </tr>\n",
       "    <tr>\n",
       "      <th>2017</th>\n",
       "      <td>259340.0</td>\n",
       "      <td>104364.0</td>\n",
       "      <td>51230704.0</td>\n",
       "    </tr>\n",
       "    <tr>\n",
       "      <th>2018</th>\n",
       "      <td>252339.0</td>\n",
       "      <td>106785.0</td>\n",
       "      <td>51344092.0</td>\n",
       "    </tr>\n",
       "    <tr>\n",
       "      <th>2019</th>\n",
       "      <td>233911.0</td>\n",
       "      <td>109035.0</td>\n",
       "      <td>51337424.0</td>\n",
       "    </tr>\n",
       "  </tbody>\n",
       "</table>\n",
       "</div>"
      ],
      "text/plain": [
       "0         혼인건수      이혼건수     주민등록인구수\n",
       "2009  300869.0  120296.0  50070582.0\n",
       "2010  317579.0  113042.0  50515666.0\n",
       "2011  321154.0  110671.0  50734284.0\n",
       "2012  327073.0  114316.0  50948272.0\n",
       "2013  315193.0  111937.0  51141463.0\n",
       "2014  297783.0  112285.0  51327916.0\n",
       "2015  295167.0  106059.0  51529338.0\n",
       "2016  276328.0  105375.0  51112971.5\n",
       "2017  259340.0  104364.0  51230704.0\n",
       "2018  252339.0  106785.0  51344092.0\n",
       "2019  233911.0  109035.0  51337424.0"
      ]
     },
     "execution_count": 16,
     "metadata": {},
     "output_type": "execute_result"
    }
   ],
   "source": [
    "df2_T = df2.T\n",
    "df2_T"
   ]
  },
  {
   "cell_type": "code",
   "execution_count": 17,
   "id": "1301c98c",
   "metadata": {},
   "outputs": [
    {
     "data": {
      "text/plain": [
       "<AxesSubplot:>"
      ]
     },
     "execution_count": 17,
     "metadata": {},
     "output_type": "execute_result"
    },
    {
     "data": {
      "image/png": "[encoded data removed]",
      "text/plain": [
       "<Figure size 640x480 with 1 Axes>"
      ]
     },
     "metadata": {},
     "output_type": "display_data"
    }
   ],
   "source": [
    "df2_T = df2_T.astype(float)\n",
    "df2_T.plot()"
   ]
  },
  {
   "cell_type": "code",
   "execution_count": 18,
   "id": "e865186b",
   "metadata": {},
   "outputs": [],
   "source": [
    "df2_T.reset_index(inplace=True)"
   ]
  },
  {
   "cell_type": "code",
   "execution_count": null,
   "id": "7316f68f",
   "metadata": {},
   "outputs": [],
   "source": []
  },
  {
   "cell_type": "code",
   "execution_count": 19,
   "id": "b48f4662",
   "metadata": {},
   "outputs": [
    {
     "data": {
      "text/html": [
       "<div>\n",
       "<style scoped>\n",
       "    .dataframe tbody tr th:only-of-type {\n",
       "        vertical-align: middle;\n",
       "    }\n",
       "\n",
       "    .dataframe tbody tr th {\n",
       "        vertical-align: top;\n",
       "    }\n",
       "\n",
       "    .dataframe thead th {\n",
       "        text-align: right;\n",
       "    }\n",
       "</style>\n",
       "<table border=\"1\" class=\"dataframe\">\n",
       "  <thead>\n",
       "    <tr style=\"text-align: right;\">\n",
       "      <th></th>\n",
       "      <th>구분</th>\n",
       "      <th>혼인건수</th>\n",
       "      <th>이혼건수</th>\n",
       "      <th>주민등록인구수</th>\n",
       "    </tr>\n",
       "  </thead>\n",
       "  <tbody>\n",
       "    <tr>\n",
       "      <th>0</th>\n",
       "      <td>2009</td>\n",
       "      <td>300869.0</td>\n",
       "      <td>120296.0</td>\n",
       "      <td>50070582.0</td>\n",
       "    </tr>\n",
       "    <tr>\n",
       "      <th>1</th>\n",
       "      <td>2010</td>\n",
       "      <td>317579.0</td>\n",
       "      <td>113042.0</td>\n",
       "      <td>50515666.0</td>\n",
       "    </tr>\n",
       "    <tr>\n",
       "      <th>2</th>\n",
       "      <td>2011</td>\n",
       "      <td>321154.0</td>\n",
       "      <td>110671.0</td>\n",
       "      <td>50734284.0</td>\n",
       "    </tr>\n",
       "    <tr>\n",
       "      <th>3</th>\n",
       "      <td>2012</td>\n",
       "      <td>327073.0</td>\n",
       "      <td>114316.0</td>\n",
       "      <td>50948272.0</td>\n",
       "    </tr>\n",
       "    <tr>\n",
       "      <th>4</th>\n",
       "      <td>2013</td>\n",
       "      <td>315193.0</td>\n",
       "      <td>111937.0</td>\n",
       "      <td>51141463.0</td>\n",
       "    </tr>\n",
       "    <tr>\n",
       "      <th>5</th>\n",
       "      <td>2014</td>\n",
       "      <td>297783.0</td>\n",
       "      <td>112285.0</td>\n",
       "      <td>51327916.0</td>\n",
       "    </tr>\n",
       "    <tr>\n",
       "      <th>6</th>\n",
       "      <td>2015</td>\n",
       "      <td>295167.0</td>\n",
       "      <td>106059.0</td>\n",
       "      <td>51529338.0</td>\n",
       "    </tr>\n",
       "    <tr>\n",
       "      <th>7</th>\n",
       "      <td>2016</td>\n",
       "      <td>276328.0</td>\n",
       "      <td>105375.0</td>\n",
       "      <td>51112971.5</td>\n",
       "    </tr>\n",
       "    <tr>\n",
       "      <th>8</th>\n",
       "      <td>2017</td>\n",
       "      <td>259340.0</td>\n",
       "      <td>104364.0</td>\n",
       "      <td>51230704.0</td>\n",
       "    </tr>\n",
       "    <tr>\n",
       "      <th>9</th>\n",
       "      <td>2018</td>\n",
       "      <td>252339.0</td>\n",
       "      <td>106785.0</td>\n",
       "      <td>51344092.0</td>\n",
       "    </tr>\n",
       "    <tr>\n",
       "      <th>10</th>\n",
       "      <td>2019</td>\n",
       "      <td>233911.0</td>\n",
       "      <td>109035.0</td>\n",
       "      <td>51337424.0</td>\n",
       "    </tr>\n",
       "  </tbody>\n",
       "</table>\n",
       "</div>"
      ],
      "text/plain": [
       "0     구분      혼인건수      이혼건수     주민등록인구수\n",
       "0   2009  300869.0  120296.0  50070582.0\n",
       "1   2010  317579.0  113042.0  50515666.0\n",
       "2   2011  321154.0  110671.0  50734284.0\n",
       "3   2012  327073.0  114316.0  50948272.0\n",
       "4   2013  315193.0  111937.0  51141463.0\n",
       "5   2014  297783.0  112285.0  51327916.0\n",
       "6   2015  295167.0  106059.0  51529338.0\n",
       "7   2016  276328.0  105375.0  51112971.5\n",
       "8   2017  259340.0  104364.0  51230704.0\n",
       "9   2018  252339.0  106785.0  51344092.0\n",
       "10  2019  233911.0  109035.0  51337424.0"
      ]
     },
     "execution_count": 19,
     "metadata": {},
     "output_type": "execute_result"
    }
   ],
   "source": [
    "df2_T.rename(columns={'index':'구분'}, inplace=True)\n",
    "df2_T"
   ]
  },
  {
   "cell_type": "code",
   "execution_count": 20,
   "id": "3dc1b3fe",
   "metadata": {},
   "outputs": [],
   "source": [
    "df2_T.set_index('구분', inplace=True)"
   ]
  },
  {
   "cell_type": "code",
   "execution_count": 21,
   "id": "3f855721",
   "metadata": {},
   "outputs": [
    {
     "data": {
      "text/html": [
       "<div>\n",
       "<style scoped>\n",
       "    .dataframe tbody tr th:only-of-type {\n",
       "        vertical-align: middle;\n",
       "    }\n",
       "\n",
       "    .dataframe tbody tr th {\n",
       "        vertical-align: top;\n",
       "    }\n",
       "\n",
       "    .dataframe thead th {\n",
       "        text-align: right;\n",
       "    }\n",
       "</style>\n",
       "<table border=\"1\" class=\"dataframe\">\n",
       "  <thead>\n",
       "    <tr style=\"text-align: right;\">\n",
       "      <th></th>\n",
       "      <th>혼인건수</th>\n",
       "      <th>이혼건수</th>\n",
       "      <th>주민등록인구수</th>\n",
       "    </tr>\n",
       "    <tr>\n",
       "      <th>구분</th>\n",
       "      <th></th>\n",
       "      <th></th>\n",
       "      <th></th>\n",
       "    </tr>\n",
       "  </thead>\n",
       "  <tbody>\n",
       "    <tr>\n",
       "      <th>2009</th>\n",
       "      <td>300869.0</td>\n",
       "      <td>120296.0</td>\n",
       "      <td>50070582.0</td>\n",
       "    </tr>\n",
       "    <tr>\n",
       "      <th>2010</th>\n",
       "      <td>317579.0</td>\n",
       "      <td>113042.0</td>\n",
       "      <td>50515666.0</td>\n",
       "    </tr>\n",
       "    <tr>\n",
       "      <th>2011</th>\n",
       "      <td>321154.0</td>\n",
       "      <td>110671.0</td>\n",
       "      <td>50734284.0</td>\n",
       "    </tr>\n",
       "    <tr>\n",
       "      <th>2012</th>\n",
       "      <td>327073.0</td>\n",
       "      <td>114316.0</td>\n",
       "      <td>50948272.0</td>\n",
       "    </tr>\n",
       "    <tr>\n",
       "      <th>2013</th>\n",
       "      <td>315193.0</td>\n",
       "      <td>111937.0</td>\n",
       "      <td>51141463.0</td>\n",
       "    </tr>\n",
       "    <tr>\n",
       "      <th>2014</th>\n",
       "      <td>297783.0</td>\n",
       "      <td>112285.0</td>\n",
       "      <td>51327916.0</td>\n",
       "    </tr>\n",
       "    <tr>\n",
       "      <th>2015</th>\n",
       "      <td>295167.0</td>\n",
       "      <td>106059.0</td>\n",
       "      <td>51529338.0</td>\n",
       "    </tr>\n",
       "    <tr>\n",
       "      <th>2016</th>\n",
       "      <td>276328.0</td>\n",
       "      <td>105375.0</td>\n",
       "      <td>51112971.5</td>\n",
       "    </tr>\n",
       "    <tr>\n",
       "      <th>2017</th>\n",
       "      <td>259340.0</td>\n",
       "      <td>104364.0</td>\n",
       "      <td>51230704.0</td>\n",
       "    </tr>\n",
       "    <tr>\n",
       "      <th>2018</th>\n",
       "      <td>252339.0</td>\n",
       "      <td>106785.0</td>\n",
       "      <td>51344092.0</td>\n",
       "    </tr>\n",
       "    <tr>\n",
       "      <th>2019</th>\n",
       "      <td>233911.0</td>\n",
       "      <td>109035.0</td>\n",
       "      <td>51337424.0</td>\n",
       "    </tr>\n",
       "  </tbody>\n",
       "</table>\n",
       "</div>"
      ],
      "text/plain": [
       "0         혼인건수      이혼건수     주민등록인구수\n",
       "구분                                  \n",
       "2009  300869.0  120296.0  50070582.0\n",
       "2010  317579.0  113042.0  50515666.0\n",
       "2011  321154.0  110671.0  50734284.0\n",
       "2012  327073.0  114316.0  50948272.0\n",
       "2013  315193.0  111937.0  51141463.0\n",
       "2014  297783.0  112285.0  51327916.0\n",
       "2015  295167.0  106059.0  51529338.0\n",
       "2016  276328.0  105375.0  51112971.5\n",
       "2017  259340.0  104364.0  51230704.0\n",
       "2018  252339.0  106785.0  51344092.0\n",
       "2019  233911.0  109035.0  51337424.0"
      ]
     },
     "execution_count": 21,
     "metadata": {},
     "output_type": "execute_result"
    }
   ],
   "source": [
    "df2_T"
   ]
  },
  {
   "cell_type": "code",
   "execution_count": 22,
   "id": "848ab470",
   "metadata": {
    "scrolled": false
   },
   "outputs": [
    {
     "data": {
      "text/plain": [
       "<AxesSubplot:xlabel='구분'>"
      ]
     },
     "execution_count": 22,
     "metadata": {},
     "output_type": "execute_result"
    },
    {
     "data": {
      "image/png": "[encoded data removed]",
      "text/plain": [
       "<Figure size 640x480 with 1 Axes>"
      ]
     },
     "metadata": {},
     "output_type": "display_data"
    }
   ],
   "source": [
    "df2_T.plot()"
   ]
  },
  {
   "cell_type": "code",
   "execution_count": 23,
   "id": "a5116d7a",
   "metadata": {},
   "outputs": [
    {
     "data": {
      "text/html": [
       "<div>\n",
       "<style scoped>\n",
       "    .dataframe tbody tr th:only-of-type {\n",
       "        vertical-align: middle;\n",
       "    }\n",
       "\n",
       "    .dataframe tbody tr th {\n",
       "        vertical-align: top;\n",
       "    }\n",
       "\n",
       "    .dataframe thead th {\n",
       "        text-align: right;\n",
       "    }\n",
       "</style>\n",
       "<table border=\"1\" class=\"dataframe\">\n",
       "  <thead>\n",
       "    <tr style=\"text-align: right;\">\n",
       "      <th></th>\n",
       "      <th>혼인율</th>\n",
       "    </tr>\n",
       "  </thead>\n",
       "  <tbody>\n",
       "    <tr>\n",
       "      <th>2009</th>\n",
       "      <td>300869.0</td>\n",
       "    </tr>\n",
       "    <tr>\n",
       "      <th>2010</th>\n",
       "      <td>317579.0</td>\n",
       "    </tr>\n",
       "    <tr>\n",
       "      <th>2011</th>\n",
       "      <td>321154.0</td>\n",
       "    </tr>\n",
       "    <tr>\n",
       "      <th>2012</th>\n",
       "      <td>327073.0</td>\n",
       "    </tr>\n",
       "    <tr>\n",
       "      <th>2013</th>\n",
       "      <td>315193.0</td>\n",
       "    </tr>\n",
       "    <tr>\n",
       "      <th>2014</th>\n",
       "      <td>297783.0</td>\n",
       "    </tr>\n",
       "    <tr>\n",
       "      <th>2015</th>\n",
       "      <td>295167.0</td>\n",
       "    </tr>\n",
       "    <tr>\n",
       "      <th>2016</th>\n",
       "      <td>276328.0</td>\n",
       "    </tr>\n",
       "    <tr>\n",
       "      <th>2017</th>\n",
       "      <td>259340.0</td>\n",
       "    </tr>\n",
       "    <tr>\n",
       "      <th>2018</th>\n",
       "      <td>252339.0</td>\n",
       "    </tr>\n",
       "    <tr>\n",
       "      <th>2019</th>\n",
       "      <td>233911.0</td>\n",
       "    </tr>\n",
       "  </tbody>\n",
       "</table>\n",
       "</div>"
      ],
      "text/plain": [
       "           혼인율\n",
       "2009  300869.0\n",
       "2010  317579.0\n",
       "2011  321154.0\n",
       "2012  327073.0\n",
       "2013  315193.0\n",
       "2014  297783.0\n",
       "2015  295167.0\n",
       "2016  276328.0\n",
       "2017  259340.0\n",
       "2018  252339.0\n",
       "2019  233911.0"
      ]
     },
     "execution_count": 23,
     "metadata": {},
     "output_type": "execute_result"
    }
   ],
   "source": [
    "df3=df3.to_frame(name='혼인율')\n",
    "df3"
   ]
  },
  {
   "cell_type": "code",
   "execution_count": 24,
   "id": "9f473c10",
   "metadata": {},
   "outputs": [],
   "source": [
    "df3 = df3.astype(float)\n",
    "# for i in range(len(df3.index)):\n",
    "#     if i==0:\n",
    "#         df3['증감율(%)']=0\n",
    "#         continue\n",
    "#     df3.iloc[i,1]=round(((df3.iloc[i,0])/df3.iloc[i-1,0]-1)*100,2)    \n",
    "# print(df3)"
   ]
  },
  {
   "cell_type": "code",
   "execution_count": 25,
   "id": "9db39f09",
   "metadata": {},
   "outputs": [],
   "source": [
    "df3['전년도'] = df3['혼인율'].shift(1)   # 위 식과 같은 정리\n",
    "df3['증감율(%)'] = round(((df3['혼인율']/ df3['전년도']) -1) * 100,2)\n",
    "df3.iloc[0,2]=0\n",
    "df3.drop(columns='전년도',inplace=True)"
   ]
  },
  {
   "cell_type": "code",
   "execution_count": 26,
   "id": "ab2054cc",
   "metadata": {},
   "outputs": [
    {
     "data": {
      "text/plain": [
       "2009    0.00\n",
       "2010    5.55\n",
       "2011    1.13\n",
       "2012    1.84\n",
       "2013   -3.63\n",
       "2014   -5.52\n",
       "2015   -0.88\n",
       "2016   -6.38\n",
       "2017   -6.15\n",
       "2018   -2.70\n",
       "2019   -7.30\n",
       "Name: 증감율(%), dtype: float64"
      ]
     },
     "execution_count": 26,
     "metadata": {},
     "output_type": "execute_result"
    }
   ],
   "source": [
    "df3['증감율(%)']"
   ]
  },
  {
   "cell_type": "markdown",
   "id": "c0c40e93",
   "metadata": {},
   "source": [
    "fig = plt.figure(figsize=(15,10))\n",
    "\n",
    "ax1 = fig.add_sub\n",
    "ax1 = plt.plot(df3.index, df3['증감율(%)'])"
   ]
  },
  {
   "cell_type": "code",
   "execution_count": 44,
   "id": "821b8556",
   "metadata": {},
   "outputs": [
    {
     "data": {
      "image/png": "[encoded data removed]",
      "text/plain": [
       "<Figure size 640x480 with 2 Axes>"
      ]
     },
     "metadata": {},
     "output_type": "display_data"
    }
   ],
   "source": [
    "ax1 = df3['혼인율'].plot(kind='bar',label='혼인율')\n",
    "ax2 = ax1.twinx()\n",
    "ax2.plot(df3.index, df3['증감율(%)'],marker='o', ls='-', color='red',label='혼인 증감율 (%)')\n",
    "\n",
    "ax1.set_ylim(220000,340000)\n",
    "ax2.set_ylim(-10,6)\n",
    "\n",
    "plt.hlines(0,-1,12, color='lightgray', linestyle=':', linewidth=3)\n",
    "ax1.legend(loc='upper right')\n",
    "ax2.legend(loc='center right')\n",
    "ax1.set_xlabel('연도')\n",
    "ax1.set_ylabel('혼인율')\n",
    "ax2.set_ylabel('혼인 증감율 (%)')\n",
    "ax1.set_title('혼인율')\n",
    "\n",
    "plt.show()"
   ]
  },
  {
   "cell_type": "code",
   "execution_count": null,
   "id": "47fb7adf",
   "metadata": {},
   "outputs": [],
   "source": [
    "ddf3=ddf3.to_frame(name='이혼율')\n",
    "ddf3 = ddf3.astype(float)\n",
    "\n",
    "ddf3['전년도'] = ddf3['이혼율'].shift(1)   # 위 식과 같은 정리\n",
    "ddf3['증감율(%)'] = round(((ddf3['이혼율']/ ddf3['전년도']) -1) * 100,2)\n",
    "ddf3.iloc[0,2]=0\n",
    "ddf3.drop(columns='전년도',inplace=True)\n",
    "\n",
    "ax1 = ddf3['이혼율'].plot(kind='bar',label='이혼율')\n",
    "ax2 = ax1.twinx()\n",
    "ax2.plot(ddf3.index, ddf3['증감율(%)'],marker='o', ls='-', color='red',label='이혼 증감율 (%)')\n",
    "\n",
    "ax1.set_ylim(100000,130000)\n",
    "ax2.set_ylim(-10,6)\n",
    "\n",
    "plt.hlines(0,-1,12, color='lightgray', linestyle=':', linewidth=3)\n",
    "ax1.legend(loc='center right')\n",
    "ax2.legend(loc='upper right')\n",
    "ax1.set_xlabel('연도')\n",
    "ax1.set_ylabel('이혼율')\n",
    "ax2.set_ylabel('이혼 증감율 (%)')\n",
    "ax1.set_title('이혼율')\n",
    "\n",
    "plt.show()"
   ]
  }
 ],
 "metadata": {
  "kernelspec": {
   "display_name": "Python 3 (ipykernel)",
   "language": "python",
   "name": "python3"
  },
  "language_info": {
   "codemirror_mode": {
    "name": "ipython",
    "version": 3
   },
   "file_extension": ".py",
   "mimetype": "text/x-python",
   "name": "python",
   "nbconvert_exporter": "python",
   "pygments_lexer": "ipython3",
   "version": "3.9.13"
  }
 },
 "nbformat": 4,
 "nbformat_minor": 5
}
