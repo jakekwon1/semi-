{
 "cells": [
  {
   "cell_type": "code",
   "execution_count": 1,
   "id": "d0fbb523",
   "metadata": {},
   "outputs": [],
   "source": [
    "# %load ../include.py\n",
    "\n",
    "import pandas as pd\n",
    "import numpy as np\n",
    "import matplotlib.pyplot  as plt\n",
    "import matplotlib\n",
    "\n",
    "plt.rc('font', family='gulim') # For Windows\n",
    "matplotlib.rcParams['axes.unicode_minus'] = False \n",
    "\n"
   ]
  },
  {
   "cell_type": "code",
   "execution_count": 2,
   "id": "d5b8ebb1",
   "metadata": {},
   "outputs": [],
   "source": [
    "df1=pd.read_csv('./혼인_및_이혼율_총계.csv',encoding='cp949')"
   ]
  },
  {
   "cell_type": "code",
   "execution_count": 3,
   "id": "ccaae32d",
   "metadata": {},
   "outputs": [
    {
     "data": {
      "text/html": [
       "<div>\n",
       "<style scoped>\n",
       "    .dataframe tbody tr th:only-of-type {\n",
       "        vertical-align: middle;\n",
       "    }\n",
       "\n",
       "    .dataframe tbody tr th {\n",
       "        vertical-align: top;\n",
       "    }\n",
       "\n",
       "    .dataframe thead th {\n",
       "        text-align: right;\n",
       "    }\n",
       "</style>\n",
       "<table border=\"1\" class=\"dataframe\">\n",
       "  <thead>\n",
       "    <tr style=\"text-align: right;\">\n",
       "      <th></th>\n",
       "      <th>2009</th>\n",
       "      <th>2009.1</th>\n",
       "      <th>2009.2</th>\n",
       "      <th>2010</th>\n",
       "      <th>2010.1</th>\n",
       "      <th>2010.2</th>\n",
       "      <th>2011</th>\n",
       "      <th>2011.1</th>\n",
       "      <th>2011.2</th>\n",
       "      <th>2012</th>\n",
       "      <th>...</th>\n",
       "      <th>2016.2</th>\n",
       "      <th>2017</th>\n",
       "      <th>2017.1</th>\n",
       "      <th>2017.2</th>\n",
       "      <th>2018</th>\n",
       "      <th>2018.1</th>\n",
       "      <th>2018.2</th>\n",
       "      <th>2019</th>\n",
       "      <th>2019.1</th>\n",
       "      <th>2019.2</th>\n",
       "    </tr>\n",
       "  </thead>\n",
       "  <tbody>\n",
       "    <tr>\n",
       "      <th>0</th>\n",
       "      <td>혼인건수 (건)</td>\n",
       "      <td>이혼건수 (건)</td>\n",
       "      <td>주민등록인구수(연앙인구) (명)</td>\n",
       "      <td>혼인건수 (건)</td>\n",
       "      <td>이혼건수 (건)</td>\n",
       "      <td>주민등록인구수(연앙인구) (명)</td>\n",
       "      <td>혼인건수 (건)</td>\n",
       "      <td>이혼건수 (건)</td>\n",
       "      <td>주민등록인구수(연앙인구) (명)</td>\n",
       "      <td>혼인건수 (건)</td>\n",
       "      <td>...</td>\n",
       "      <td>주민등록인구수(연앙인구) (명)</td>\n",
       "      <td>혼인건수 (건)</td>\n",
       "      <td>이혼건수 (건)</td>\n",
       "      <td>주민등록인구수(연앙인구) (명)</td>\n",
       "      <td>혼인건수 (건)</td>\n",
       "      <td>이혼건수 (건)</td>\n",
       "      <td>주민등록인구수(연앙인구) (명)</td>\n",
       "      <td>혼인건수 (건)</td>\n",
       "      <td>이혼건수 (건)</td>\n",
       "      <td>주민등록인구수(연앙인구) (명)</td>\n",
       "    </tr>\n",
       "    <tr>\n",
       "      <th>1</th>\n",
       "      <td>300869</td>\n",
       "      <td>120296</td>\n",
       "      <td>50070582.0</td>\n",
       "      <td>317579</td>\n",
       "      <td>113042</td>\n",
       "      <td>50515666.0</td>\n",
       "      <td>321154</td>\n",
       "      <td>110671</td>\n",
       "      <td>50734284.0</td>\n",
       "      <td>327073</td>\n",
       "      <td>...</td>\n",
       "      <td>51112971.5</td>\n",
       "      <td>259340</td>\n",
       "      <td>104364</td>\n",
       "      <td>51230704.0</td>\n",
       "      <td>252339</td>\n",
       "      <td>106785</td>\n",
       "      <td>51344092.0</td>\n",
       "      <td>233911</td>\n",
       "      <td>109035</td>\n",
       "      <td>51337424.0</td>\n",
       "    </tr>\n",
       "  </tbody>\n",
       "</table>\n",
       "<p>2 rows × 33 columns</p>\n",
       "</div>"
      ],
      "text/plain": [
       "       2009    2009.1             2009.2      2010    2010.1  \\\n",
       "0  혼인건수 (건)  이혼건수 (건)  주민등록인구수(연앙인구) (명)  혼인건수 (건)  이혼건수 (건)   \n",
       "1    300869    120296         50070582.0    317579    113042   \n",
       "\n",
       "              2010.2      2011    2011.1             2011.2      2012  ...  \\\n",
       "0  주민등록인구수(연앙인구) (명)  혼인건수 (건)  이혼건수 (건)  주민등록인구수(연앙인구) (명)  혼인건수 (건)  ...   \n",
       "1         50515666.0    321154    110671         50734284.0    327073  ...   \n",
       "\n",
       "              2016.2      2017    2017.1             2017.2      2018  \\\n",
       "0  주민등록인구수(연앙인구) (명)  혼인건수 (건)  이혼건수 (건)  주민등록인구수(연앙인구) (명)  혼인건수 (건)   \n",
       "1         51112971.5    259340    104364         51230704.0    252339   \n",
       "\n",
       "     2018.1             2018.2      2019    2019.1             2019.2  \n",
       "0  이혼건수 (건)  주민등록인구수(연앙인구) (명)  혼인건수 (건)  이혼건수 (건)  주민등록인구수(연앙인구) (명)  \n",
       "1    106785         51344092.0    233911    109035         51337424.0  \n",
       "\n",
       "[2 rows x 33 columns]"
      ]
     },
     "execution_count": 3,
     "metadata": {},
     "output_type": "execute_result"
    }
   ],
   "source": [
    "df1=df1.drop('행정구역별(1)',axis=1)\n",
    "df1"
   ]
  },
  {
   "cell_type": "code",
   "execution_count": 4,
   "id": "e7cbd3c8",
   "metadata": {},
   "outputs": [
    {
     "data": {
      "text/plain": [
       "['2009',\n",
       " '2010',\n",
       " '2011',\n",
       " '2012',\n",
       " '2013',\n",
       " '2014',\n",
       " '2015',\n",
       " '2016',\n",
       " '2017',\n",
       " '2018',\n",
       " '2019']"
      ]
     },
     "execution_count": 4,
     "metadata": {},
     "output_type": "execute_result"
    }
   ],
   "source": [
    "[ df1.columns[i] for i in range(0,len(df1.columns),3) ]"
   ]
  },
  {
   "cell_type": "code",
   "execution_count": 5,
   "id": "d9bdd462",
   "metadata": {},
   "outputs": [],
   "source": [
    "df2 = pd.DataFrame()"
   ]
  },
  {
   "cell_type": "code",
   "execution_count": 6,
   "id": "16a32fef",
   "metadata": {},
   "outputs": [
    {
     "data": {
      "text/plain": [
       "2009               혼인건수 (건)\n",
       "2009.1             이혼건수 (건)\n",
       "2009.2    주민등록인구수(연앙인구) (명)\n",
       "Name: 0, dtype: object"
      ]
     },
     "execution_count": 6,
     "metadata": {},
     "output_type": "execute_result"
    }
   ],
   "source": [
    "df1.iloc[0,0:3]"
   ]
  },
  {
   "cell_type": "code",
   "execution_count": 7,
   "id": "bb3028de",
   "metadata": {},
   "outputs": [],
   "source": [
    "df2.index=df1.iloc[0,0:3]"
   ]
  },
  {
   "cell_type": "markdown",
   "id": "2fdffa5f",
   "metadata": {},
   "source": [
    "df2 = df1.loc[ :, [ df1.columns[i] for i in range(0,len(df1.columns),3) ]]\n",
    "df2"
   ]
  },
  {
   "cell_type": "code",
   "execution_count": 8,
   "id": "1b29e707",
   "metadata": {},
   "outputs": [],
   "source": [
    "# df2[혼인건수, 2009] , df2[이혼건수, 2009]\n",
    "for col in [ df1.columns[i] for i in range(0,len(df1.columns),3) ]:\n",
    "    df2.loc[df2.index[0], col] = df1.loc[1, col]   # df2.loc[위치할 index,위치할 컬럼]=df1.loc[가져올 index, 가져올 컬럼] 위치할 컬럼이 None이면 가져올 컬럼에서 컬럼도\n",
    "    for index in range(1,3):                        #                                                                      같이 가져와서 설정\n",
    "        col_1 = col + '.' + str(index)\n",
    "        df2.loc[df2.index[index],col] = df1.loc[1, col_1]   #  df2.index[원하는 값을 설정(index)]"
   ]
  },
  {
   "cell_type": "code",
   "execution_count": 9,
   "id": "834e6b3a",
   "metadata": {
    "scrolled": false
   },
   "outputs": [
    {
     "data": {
      "text/html": [
       "<div>\n",
       "<style scoped>\n",
       "    .dataframe tbody tr th:only-of-type {\n",
       "        vertical-align: middle;\n",
       "    }\n",
       "\n",
       "    .dataframe tbody tr th {\n",
       "        vertical-align: top;\n",
       "    }\n",
       "\n",
       "    .dataframe thead th {\n",
       "        text-align: right;\n",
       "    }\n",
       "</style>\n",
       "<table border=\"1\" class=\"dataframe\">\n",
       "  <thead>\n",
       "    <tr style=\"text-align: right;\">\n",
       "      <th></th>\n",
       "      <th>2009</th>\n",
       "      <th>2010</th>\n",
       "      <th>2011</th>\n",
       "      <th>2012</th>\n",
       "      <th>2013</th>\n",
       "      <th>2014</th>\n",
       "      <th>2015</th>\n",
       "      <th>2016</th>\n",
       "      <th>2017</th>\n",
       "      <th>2018</th>\n",
       "      <th>2019</th>\n",
       "    </tr>\n",
       "    <tr>\n",
       "      <th>0</th>\n",
       "      <th></th>\n",
       "      <th></th>\n",
       "      <th></th>\n",
       "      <th></th>\n",
       "      <th></th>\n",
       "      <th></th>\n",
       "      <th></th>\n",
       "      <th></th>\n",
       "      <th></th>\n",
       "      <th></th>\n",
       "      <th></th>\n",
       "    </tr>\n",
       "  </thead>\n",
       "  <tbody>\n",
       "    <tr>\n",
       "      <th>혼인건수</th>\n",
       "      <td>300869</td>\n",
       "      <td>317579</td>\n",
       "      <td>321154</td>\n",
       "      <td>327073</td>\n",
       "      <td>315193</td>\n",
       "      <td>297783</td>\n",
       "      <td>295167</td>\n",
       "      <td>276328</td>\n",
       "      <td>259340</td>\n",
       "      <td>252339</td>\n",
       "      <td>233911</td>\n",
       "    </tr>\n",
       "    <tr>\n",
       "      <th>이혼건수</th>\n",
       "      <td>120296</td>\n",
       "      <td>113042</td>\n",
       "      <td>110671</td>\n",
       "      <td>114316</td>\n",
       "      <td>111937</td>\n",
       "      <td>112285</td>\n",
       "      <td>106059</td>\n",
       "      <td>105375</td>\n",
       "      <td>104364</td>\n",
       "      <td>106785</td>\n",
       "      <td>109035</td>\n",
       "    </tr>\n",
       "    <tr>\n",
       "      <th>주민등록인구수</th>\n",
       "      <td>50070582.0</td>\n",
       "      <td>50515666.0</td>\n",
       "      <td>50734284.0</td>\n",
       "      <td>50948272.0</td>\n",
       "      <td>51141463.0</td>\n",
       "      <td>51327916.0</td>\n",
       "      <td>51529338.0</td>\n",
       "      <td>51112971.5</td>\n",
       "      <td>51230704.0</td>\n",
       "      <td>51344092.0</td>\n",
       "      <td>51337424.0</td>\n",
       "    </tr>\n",
       "  </tbody>\n",
       "</table>\n",
       "</div>"
      ],
      "text/plain": [
       "               2009        2010        2011        2012        2013  \\\n",
       "0                                                                     \n",
       "혼인건수         300869      317579      321154      327073      315193   \n",
       "이혼건수         120296      113042      110671      114316      111937   \n",
       "주민등록인구수  50070582.0  50515666.0  50734284.0  50948272.0  51141463.0   \n",
       "\n",
       "               2014        2015        2016        2017        2018  \\\n",
       "0                                                                     \n",
       "혼인건수         297783      295167      276328      259340      252339   \n",
       "이혼건수         112285      106059      105375      104364      106785   \n",
       "주민등록인구수  51327916.0  51529338.0  51112971.5  51230704.0  51344092.0   \n",
       "\n",
       "               2019  \n",
       "0                    \n",
       "혼인건수         233911  \n",
       "이혼건수         109035  \n",
       "주민등록인구수  51337424.0  "
      ]
     },
     "execution_count": 9,
     "metadata": {},
     "output_type": "execute_result"
    }
   ],
   "source": [
    "df2.rename(index={'혼인건수 (건)':'혼인건수','이혼건수 (건)':'이혼건수','주민등록인구수(연앙인구) (명)':'주민등록인구수'},inplace=True)\n",
    "df2 #첫 for 문장으로 2009의 혼인값 가져오고 다음 for 문장으로 2009.1의 (이혼건수)의 값과 2009.2의 값을 가져온다"
   ]
  },
  {
   "cell_type": "code",
   "execution_count": 10,
   "id": "03f9f1a6",
   "metadata": {},
   "outputs": [],
   "source": [
    "ddf2=df2.drop('주민등록인구수')\n",
    "#df3=ddf2.drop('혼인건수 (건)')\n",
    "df3=df2.iloc[0,:] #위와 같음\n",
    "ddf3=df2.iloc[1,:]"
   ]
  },
  {
   "cell_type": "code",
   "execution_count": 11,
   "id": "9f192ccb",
   "metadata": {
    "scrolled": false
   },
   "outputs": [
    {
     "data": {
      "image/png": "[encoded data removed]",
      "text/plain": [
       "<Figure size 640x480 with 1 Axes>"
      ]
     },
     "metadata": {},
     "output_type": "display_data"
    }
   ],
   "source": [
    "df2=df2.astype(float)\n",
    "plt.rc('font', family='Malgun Gothic')\n",
    "plt.pie(x=[df2.loc['혼인건수','2009'],df2.loc['이혼건수','2009'],df2.loc['주민등록인구수','2009']],labels=['혼인건수','이혼건수','주민등록인구수'],autopct='%0.1f%%')\n",
    "plt.show()"
   ]
  },
  {
   "cell_type": "code",
   "execution_count": 12,
   "id": "6816ec4b",
   "metadata": {},
   "outputs": [
    {
     "data": {
      "image/png": "[encoded data removed]",
      "text/plain": [
       "<Figure size 640x480 with 1 Axes>"
      ]
     },
     "metadata": {},
     "output_type": "display_data"
    }
   ],
   "source": [
    "df2=df2.astype(float)\n",
    "plt.rc('font', family='Malgun Gothic')\n",
    "plt.pie(x=[df2.loc['혼인건수','2019'],df2.loc['이혼건수','2019'],df2.loc['주민등록인구수','2019']],labels=['혼인건수','이혼건수','주민등록인구수'],autopct='%0.1f%%')\n",
    "plt.show()"
   ]
  },
  {
   "cell_type": "code",
   "execution_count": 13,
   "id": "e676e105",
   "metadata": {},
   "outputs": [
    {
     "data": {
      "text/plain": [
       "<AxesSubplot:>"
      ]
     },
     "execution_count": 13,
     "metadata": {},
     "output_type": "execute_result"
    },
    {
     "data": {
      "image/png": "[encoded data removed]",
      "text/plain": [
       "<Figure size 640x480 with 1 Axes>"
      ]
     },
     "metadata": {},
     "output_type": "display_data"
    }
   ],
   "source": [
    "ddf2 = ddf2.astype(float)\n",
    "\n",
    "ddf2.T.plot()"
   ]
  },
  {
   "cell_type": "code",
   "execution_count": 14,
   "id": "2b13b156",
   "metadata": {},
   "outputs": [
    {
     "data": {
      "text/plain": [
       "<bound method Series.info of 2009    300869\n",
       "2010    317579\n",
       "2011    321154\n",
       "2012    327073\n",
       "2013    315193\n",
       "2014    297783\n",
       "2015    295167\n",
       "2016    276328\n",
       "2017    259340\n",
       "2018    252339\n",
       "2019    233911\n",
       "Name: 혼인건수, dtype: object>"
      ]
     },
     "execution_count": 14,
     "metadata": {},
     "output_type": "execute_result"
    }
   ],
   "source": [
    "pd.DataFrame=df3\n",
    "df3.info"
   ]
  },
  {
   "cell_type": "code",
   "execution_count": 15,
   "id": "eedfa6c8",
   "metadata": {},
   "outputs": [
    {
     "data": {
      "text/plain": [
       "<AxesSubplot:>"
      ]
     },
     "execution_count": 15,
     "metadata": {},
     "output_type": "execute_result"
    },
    {
     "data": {
      "image/png": "[encoded data removed]",
      "text/plain": [
       "<Figure size 640x480 with 1 Axes>"
      ]
     },
     "metadata": {},
     "output_type": "display_data"
    }
   ],
   "source": [
    "df3 = df3.astype(float)\n",
    "df3.T.plot()  #혼인 건수"
   ]
  },
  {
   "cell_type": "code",
   "execution_count": 16,
   "id": "dda483bd",
   "metadata": {},
   "outputs": [
    {
     "data": {
      "text/plain": [
       "<AxesSubplot:>"
      ]
     },
     "execution_count": 16,
     "metadata": {},
     "output_type": "execute_result"
    },
    {
     "data": {
      "image/png": "[encoded data removed]",
      "text/plain": [
       "<Figure size 640x480 with 1 Axes>"
      ]
     },
     "metadata": {},
     "output_type": "display_data"
    }
   ],
   "source": [
    "ddf3=ddf3.astype(float)\n",
    "ddf3.T.plot()# 이혼 건수"
   ]
  },
  {
   "cell_type": "code",
   "execution_count": 17,
   "id": "c473257f",
   "metadata": {},
   "outputs": [
    {
     "data": {
      "text/html": [
       "<div>\n",
       "<style scoped>\n",
       "    .dataframe tbody tr th:only-of-type {\n",
       "        vertical-align: middle;\n",
       "    }\n",
       "\n",
       "    .dataframe tbody tr th {\n",
       "        vertical-align: top;\n",
       "    }\n",
       "\n",
       "    .dataframe thead th {\n",
       "        text-align: right;\n",
       "    }\n",
       "</style>\n",
       "<table border=\"1\" class=\"dataframe\">\n",
       "  <thead>\n",
       "    <tr style=\"text-align: right;\">\n",
       "      <th></th>\n",
       "      <th>혼인건수</th>\n",
       "      <th>이혼건수</th>\n",
       "      <th>주민등록인구수</th>\n",
       "    </tr>\n",
       "  </thead>\n",
       "  <tbody>\n",
       "    <tr>\n",
       "      <th>2009</th>\n",
       "      <td>300869.0</td>\n",
       "      <td>120296.0</td>\n",
       "      <td>50070582.0</td>\n",
       "    </tr>\n",
       "    <tr>\n",
       "      <th>2010</th>\n",
       "      <td>317579.0</td>\n",
       "      <td>113042.0</td>\n",
       "      <td>50515666.0</td>\n",
       "    </tr>\n",
       "    <tr>\n",
       "      <th>2011</th>\n",
       "      <td>321154.0</td>\n",
       "      <td>110671.0</td>\n",
       "      <td>50734284.0</td>\n",
       "    </tr>\n",
       "    <tr>\n",
       "      <th>2012</th>\n",
       "      <td>327073.0</td>\n",
       "      <td>114316.0</td>\n",
       "      <td>50948272.0</td>\n",
       "    </tr>\n",
       "    <tr>\n",
       "      <th>2013</th>\n",
       "      <td>315193.0</td>\n",
       "      <td>111937.0</td>\n",
       "      <td>51141463.0</td>\n",
       "    </tr>\n",
       "    <tr>\n",
       "      <th>2014</th>\n",
       "      <td>297783.0</td>\n",
       "      <td>112285.0</td>\n",
       "      <td>51327916.0</td>\n",
       "    </tr>\n",
       "    <tr>\n",
       "      <th>2015</th>\n",
       "      <td>295167.0</td>\n",
       "      <td>106059.0</td>\n",
       "      <td>51529338.0</td>\n",
       "    </tr>\n",
       "    <tr>\n",
       "      <th>2016</th>\n",
       "      <td>276328.0</td>\n",
       "      <td>105375.0</td>\n",
       "      <td>51112971.5</td>\n",
       "    </tr>\n",
       "    <tr>\n",
       "      <th>2017</th>\n",
       "      <td>259340.0</td>\n",
       "      <td>104364.0</td>\n",
       "      <td>51230704.0</td>\n",
       "    </tr>\n",
       "    <tr>\n",
       "      <th>2018</th>\n",
       "      <td>252339.0</td>\n",
       "      <td>106785.0</td>\n",
       "      <td>51344092.0</td>\n",
       "    </tr>\n",
       "    <tr>\n",
       "      <th>2019</th>\n",
       "      <td>233911.0</td>\n",
       "      <td>109035.0</td>\n",
       "      <td>51337424.0</td>\n",
       "    </tr>\n",
       "  </tbody>\n",
       "</table>\n",
       "</div>"
      ],
      "text/plain": [
       "0         혼인건수      이혼건수     주민등록인구수\n",
       "2009  300869.0  120296.0  50070582.0\n",
       "2010  317579.0  113042.0  50515666.0\n",
       "2011  321154.0  110671.0  50734284.0\n",
       "2012  327073.0  114316.0  50948272.0\n",
       "2013  315193.0  111937.0  51141463.0\n",
       "2014  297783.0  112285.0  51327916.0\n",
       "2015  295167.0  106059.0  51529338.0\n",
       "2016  276328.0  105375.0  51112971.5\n",
       "2017  259340.0  104364.0  51230704.0\n",
       "2018  252339.0  106785.0  51344092.0\n",
       "2019  233911.0  109035.0  51337424.0"
      ]
     },
     "execution_count": 17,
     "metadata": {},
     "output_type": "execute_result"
    }
   ],
   "source": [
    "df2_T = df2.T\n",
    "df2_T"
   ]
  },
  {
   "cell_type": "code",
   "execution_count": 18,
   "id": "1301c98c",
   "metadata": {},
   "outputs": [
    {
     "data": {
      "text/plain": [
       "<AxesSubplot:>"
      ]
     },
     "execution_count": 18,
     "metadata": {},
     "output_type": "execute_result"
    },
    {
     "data": {
      "image/png": "[encoded data removed]",
      "text/plain": [
       "<Figure size 640x480 with 1 Axes>"
      ]
     },
     "metadata": {},
     "output_type": "display_data"
    }
   ],
   "source": [
    "df2_T = df2_T.astype(float)\n",
    "df2_T.plot()"
   ]
  },
  {
   "cell_type": "code",
   "execution_count": 19,
   "id": "e865186b",
   "metadata": {},
   "outputs": [],
   "source": [
    "df2_T.reset_index(inplace=True)"
   ]
  },
  {
   "cell_type": "code",
   "execution_count": null,
   "id": "7316f68f",
   "metadata": {},
   "outputs": [],
   "source": []
  },
  {
   "cell_type": "code",
   "execution_count": 20,
   "id": "b48f4662",
   "metadata": {},
   "outputs": [
    {
     "data": {
      "text/html": [
       "<div>\n",
       "<style scoped>\n",
       "    .dataframe tbody tr th:only-of-type {\n",
       "        vertical-align: middle;\n",
       "    }\n",
       "\n",
       "    .dataframe tbody tr th {\n",
       "        vertical-align: top;\n",
       "    }\n",
       "\n",
       "    .dataframe thead th {\n",
       "        text-align: right;\n",
       "    }\n",
       "</style>\n",
       "<table border=\"1\" class=\"dataframe\">\n",
       "  <thead>\n",
       "    <tr style=\"text-align: right;\">\n",
       "      <th></th>\n",
       "      <th>구분</th>\n",
       "      <th>혼인건수</th>\n",
       "      <th>이혼건수</th>\n",
       "      <th>주민등록인구수</th>\n",
       "    </tr>\n",
       "  </thead>\n",
       "  <tbody>\n",
       "    <tr>\n",
       "      <th>0</th>\n",
       "      <td>2009</td>\n",
       "      <td>300869.0</td>\n",
       "      <td>120296.0</td>\n",
       "      <td>50070582.0</td>\n",
       "    </tr>\n",
       "    <tr>\n",
       "      <th>1</th>\n",
       "      <td>2010</td>\n",
       "      <td>317579.0</td>\n",
       "      <td>113042.0</td>\n",
       "      <td>50515666.0</td>\n",
       "    </tr>\n",
       "    <tr>\n",
       "      <th>2</th>\n",
       "      <td>2011</td>\n",
       "      <td>321154.0</td>\n",
       "      <td>110671.0</td>\n",
       "      <td>50734284.0</td>\n",
       "    </tr>\n",
       "    <tr>\n",
       "      <th>3</th>\n",
       "      <td>2012</td>\n",
       "      <td>327073.0</td>\n",
       "      <td>114316.0</td>\n",
       "      <td>50948272.0</td>\n",
       "    </tr>\n",
       "    <tr>\n",
       "      <th>4</th>\n",
       "      <td>2013</td>\n",
       "      <td>315193.0</td>\n",
       "      <td>111937.0</td>\n",
       "      <td>51141463.0</td>\n",
       "    </tr>\n",
       "    <tr>\n",
       "      <th>5</th>\n",
       "      <td>2014</td>\n",
       "      <td>297783.0</td>\n",
       "      <td>112285.0</td>\n",
       "      <td>51327916.0</td>\n",
       "    </tr>\n",
       "    <tr>\n",
       "      <th>6</th>\n",
       "      <td>2015</td>\n",
       "      <td>295167.0</td>\n",
       "      <td>106059.0</td>\n",
       "      <td>51529338.0</td>\n",
       "    </tr>\n",
       "    <tr>\n",
       "      <th>7</th>\n",
       "      <td>2016</td>\n",
       "      <td>276328.0</td>\n",
       "      <td>105375.0</td>\n",
       "      <td>51112971.5</td>\n",
       "    </tr>\n",
       "    <tr>\n",
       "      <th>8</th>\n",
       "      <td>2017</td>\n",
       "      <td>259340.0</td>\n",
       "      <td>104364.0</td>\n",
       "      <td>51230704.0</td>\n",
       "    </tr>\n",
       "    <tr>\n",
       "      <th>9</th>\n",
       "      <td>2018</td>\n",
       "      <td>252339.0</td>\n",
       "      <td>106785.0</td>\n",
       "      <td>51344092.0</td>\n",
       "    </tr>\n",
       "    <tr>\n",
       "      <th>10</th>\n",
       "      <td>2019</td>\n",
       "      <td>233911.0</td>\n",
       "      <td>109035.0</td>\n",
       "      <td>51337424.0</td>\n",
       "    </tr>\n",
       "  </tbody>\n",
       "</table>\n",
       "</div>"
      ],
      "text/plain": [
       "0     구분      혼인건수      이혼건수     주민등록인구수\n",
       "0   2009  300869.0  120296.0  50070582.0\n",
       "1   2010  317579.0  113042.0  50515666.0\n",
       "2   2011  321154.0  110671.0  50734284.0\n",
       "3   2012  327073.0  114316.0  50948272.0\n",
       "4   2013  315193.0  111937.0  51141463.0\n",
       "5   2014  297783.0  112285.0  51327916.0\n",
       "6   2015  295167.0  106059.0  51529338.0\n",
       "7   2016  276328.0  105375.0  51112971.5\n",
       "8   2017  259340.0  104364.0  51230704.0\n",
       "9   2018  252339.0  106785.0  51344092.0\n",
       "10  2019  233911.0  109035.0  51337424.0"
      ]
     },
     "execution_count": 20,
     "metadata": {},
     "output_type": "execute_result"
    }
   ],
   "source": [
    "df2_T.rename(columns={'index':'구분'}, inplace=True)\n",
    "df2_T"
   ]
  },
  {
   "cell_type": "code",
   "execution_count": 21,
   "id": "3dc1b3fe",
   "metadata": {},
   "outputs": [],
   "source": [
    "df2_T.set_index('구분', inplace=True)"
   ]
  },
  {
   "cell_type": "code",
   "execution_count": 22,
   "id": "3f855721",
   "metadata": {},
   "outputs": [
    {
     "data": {
      "text/html": [
       "<div>\n",
       "<style scoped>\n",
       "    .dataframe tbody tr th:only-of-type {\n",
       "        vertical-align: middle;\n",
       "    }\n",
       "\n",
       "    .dataframe tbody tr th {\n",
       "        vertical-align: top;\n",
       "    }\n",
       "\n",
       "    .dataframe thead th {\n",
       "        text-align: right;\n",
       "    }\n",
       "</style>\n",
       "<table border=\"1\" class=\"dataframe\">\n",
       "  <thead>\n",
       "    <tr style=\"text-align: right;\">\n",
       "      <th></th>\n",
       "      <th>혼인건수</th>\n",
       "      <th>이혼건수</th>\n",
       "      <th>주민등록인구수</th>\n",
       "    </tr>\n",
       "    <tr>\n",
       "      <th>구분</th>\n",
       "      <th></th>\n",
       "      <th></th>\n",
       "      <th></th>\n",
       "    </tr>\n",
       "  </thead>\n",
       "  <tbody>\n",
       "    <tr>\n",
       "      <th>2009</th>\n",
       "      <td>300869.0</td>\n",
       "      <td>120296.0</td>\n",
       "      <td>50070582.0</td>\n",
       "    </tr>\n",
       "    <tr>\n",
       "      <th>2010</th>\n",
       "      <td>317579.0</td>\n",
       "      <td>113042.0</td>\n",
       "      <td>50515666.0</td>\n",
       "    </tr>\n",
       "    <tr>\n",
       "      <th>2011</th>\n",
       "      <td>321154.0</td>\n",
       "      <td>110671.0</td>\n",
       "      <td>50734284.0</td>\n",
       "    </tr>\n",
       "    <tr>\n",
       "      <th>2012</th>\n",
       "      <td>327073.0</td>\n",
       "      <td>114316.0</td>\n",
       "      <td>50948272.0</td>\n",
       "    </tr>\n",
       "    <tr>\n",
       "      <th>2013</th>\n",
       "      <td>315193.0</td>\n",
       "      <td>111937.0</td>\n",
       "      <td>51141463.0</td>\n",
       "    </tr>\n",
       "    <tr>\n",
       "      <th>2014</th>\n",
       "      <td>297783.0</td>\n",
       "      <td>112285.0</td>\n",
       "      <td>51327916.0</td>\n",
       "    </tr>\n",
       "    <tr>\n",
       "      <th>2015</th>\n",
       "      <td>295167.0</td>\n",
       "      <td>106059.0</td>\n",
       "      <td>51529338.0</td>\n",
       "    </tr>\n",
       "    <tr>\n",
       "      <th>2016</th>\n",
       "      <td>276328.0</td>\n",
       "      <td>105375.0</td>\n",
       "      <td>51112971.5</td>\n",
       "    </tr>\n",
       "    <tr>\n",
       "      <th>2017</th>\n",
       "      <td>259340.0</td>\n",
       "      <td>104364.0</td>\n",
       "      <td>51230704.0</td>\n",
       "    </tr>\n",
       "    <tr>\n",
       "      <th>2018</th>\n",
       "      <td>252339.0</td>\n",
       "      <td>106785.0</td>\n",
       "      <td>51344092.0</td>\n",
       "    </tr>\n",
       "    <tr>\n",
       "      <th>2019</th>\n",
       "      <td>233911.0</td>\n",
       "      <td>109035.0</td>\n",
       "      <td>51337424.0</td>\n",
       "    </tr>\n",
       "  </tbody>\n",
       "</table>\n",
       "</div>"
      ],
      "text/plain": [
       "0         혼인건수      이혼건수     주민등록인구수\n",
       "구분                                  \n",
       "2009  300869.0  120296.0  50070582.0\n",
       "2010  317579.0  113042.0  50515666.0\n",
       "2011  321154.0  110671.0  50734284.0\n",
       "2012  327073.0  114316.0  50948272.0\n",
       "2013  315193.0  111937.0  51141463.0\n",
       "2014  297783.0  112285.0  51327916.0\n",
       "2015  295167.0  106059.0  51529338.0\n",
       "2016  276328.0  105375.0  51112971.5\n",
       "2017  259340.0  104364.0  51230704.0\n",
       "2018  252339.0  106785.0  51344092.0\n",
       "2019  233911.0  109035.0  51337424.0"
      ]
     },
     "execution_count": 22,
     "metadata": {},
     "output_type": "execute_result"
    }
   ],
   "source": [
    "df2_T"
   ]
  },
  {
   "cell_type": "code",
   "execution_count": 23,
   "id": "848ab470",
   "metadata": {
    "scrolled": false
   },
   "outputs": [
    {
     "data": {
      "text/plain": [
       "<AxesSubplot:xlabel='구분'>"
      ]
     },
     "execution_count": 23,
     "metadata": {},
     "output_type": "execute_result"
    },
    {
     "data": {
      "image/png": "[encoded data removed]",
      "text/plain": [
       "<Figure size 640x480 with 1 Axes>"
      ]
     },
     "metadata": {},
     "output_type": "display_data"
    }
   ],
   "source": [
    "df2_T.plot()"
   ]
  },
  {
   "cell_type": "code",
   "execution_count": 24,
   "id": "a5116d7a",
   "metadata": {},
   "outputs": [
    {
     "data": {
      "text/html": [
       "<div>\n",
       "<style scoped>\n",
       "    .dataframe tbody tr th:only-of-type {\n",
       "        vertical-align: middle;\n",
       "    }\n",
       "\n",
       "    .dataframe tbody tr th {\n",
       "        vertical-align: top;\n",
       "    }\n",
       "\n",
       "    .dataframe thead th {\n",
       "        text-align: right;\n",
       "    }\n",
       "</style>\n",
       "<table border=\"1\" class=\"dataframe\">\n",
       "  <thead>\n",
       "    <tr style=\"text-align: right;\">\n",
       "      <th></th>\n",
       "      <th>혼인율</th>\n",
       "    </tr>\n",
       "  </thead>\n",
       "  <tbody>\n",
       "    <tr>\n",
       "      <th>2009</th>\n",
       "      <td>300869.0</td>\n",
       "    </tr>\n",
       "    <tr>\n",
       "      <th>2010</th>\n",
       "      <td>317579.0</td>\n",
       "    </tr>\n",
       "    <tr>\n",
       "      <th>2011</th>\n",
       "      <td>321154.0</td>\n",
       "    </tr>\n",
       "    <tr>\n",
       "      <th>2012</th>\n",
       "      <td>327073.0</td>\n",
       "    </tr>\n",
       "    <tr>\n",
       "      <th>2013</th>\n",
       "      <td>315193.0</td>\n",
       "    </tr>\n",
       "    <tr>\n",
       "      <th>2014</th>\n",
       "      <td>297783.0</td>\n",
       "    </tr>\n",
       "    <tr>\n",
       "      <th>2015</th>\n",
       "      <td>295167.0</td>\n",
       "    </tr>\n",
       "    <tr>\n",
       "      <th>2016</th>\n",
       "      <td>276328.0</td>\n",
       "    </tr>\n",
       "    <tr>\n",
       "      <th>2017</th>\n",
       "      <td>259340.0</td>\n",
       "    </tr>\n",
       "    <tr>\n",
       "      <th>2018</th>\n",
       "      <td>252339.0</td>\n",
       "    </tr>\n",
       "    <tr>\n",
       "      <th>2019</th>\n",
       "      <td>233911.0</td>\n",
       "    </tr>\n",
       "  </tbody>\n",
       "</table>\n",
       "</div>"
      ],
      "text/plain": [
       "           혼인율\n",
       "2009  300869.0\n",
       "2010  317579.0\n",
       "2011  321154.0\n",
       "2012  327073.0\n",
       "2013  315193.0\n",
       "2014  297783.0\n",
       "2015  295167.0\n",
       "2016  276328.0\n",
       "2017  259340.0\n",
       "2018  252339.0\n",
       "2019  233911.0"
      ]
     },
     "execution_count": 24,
     "metadata": {},
     "output_type": "execute_result"
    }
   ],
   "source": [
    "df3=df3.to_frame(name='혼인율')\n",
    "df3"
   ]
  },
  {
   "cell_type": "code",
   "execution_count": 25,
   "id": "9f473c10",
   "metadata": {},
   "outputs": [],
   "source": [
    "df3 = df3.astype(float)\n",
    "# for i in range(len(df3.index)):\n",
    "#     if i==0:\n",
    "#         df3['증감율(%)']=0\n",
    "#         continue\n",
    "#     df3.iloc[i,1]=round(((df3.iloc[i,0])/df3.iloc[i-1,0]-1)*100,2)    \n",
    "# print(df3)"
   ]
  },
  {
   "cell_type": "code",
   "execution_count": 26,
   "id": "9db39f09",
   "metadata": {},
   "outputs": [],
   "source": [
    "df3['전년도'] = df3['혼인율'].shift(1)   # 위 식과 같은 정리\n",
    "df3['증감율(%)'] = round(((df3['혼인율']/ df3['전년도']) -1) * 100,2)\n",
    "df3.iloc[0,2]=0\n",
    "df3.drop(columns='전년도',inplace=True)"
   ]
  },
  {
   "cell_type": "code",
   "execution_count": 27,
   "id": "ab2054cc",
   "metadata": {},
   "outputs": [
    {
     "data": {
      "text/plain": [
       "2009    0.00\n",
       "2010    5.55\n",
       "2011    1.13\n",
       "2012    1.84\n",
       "2013   -3.63\n",
       "2014   -5.52\n",
       "2015   -0.88\n",
       "2016   -6.38\n",
       "2017   -6.15\n",
       "2018   -2.70\n",
       "2019   -7.30\n",
       "Name: 증감율(%), dtype: float64"
      ]
     },
     "execution_count": 27,
     "metadata": {},
     "output_type": "execute_result"
    }
   ],
   "source": [
    "df3['증감율(%)']"
   ]
  },
  {
   "cell_type": "markdown",
   "id": "c0c40e93",
   "metadata": {},
   "source": [
    "fig = plt.figure(figsize=(15,10))\n",
    "\n",
    "ax1 = fig.add_sub\n",
    "ax1 = plt.plot(df3.index, df3['증감율(%)'])"
   ]
  },
  {
   "cell_type": "code",
   "execution_count": 29,
   "id": "821b8556",
   "metadata": {},
   "outputs": [
    {
     "data": {
      "image/png": "[encoded data removed]",
      "text/plain": [
       "<Figure size 640x480 with 2 Axes>"
      ]
     },
     "metadata": {},
     "output_type": "display_data"
    }
   ],
   "source": [
    "ax1 = df3['혼인율'].plot(kind='bar',label='혼인율')\n",
    "ax2 = ax1.twinx()\n",
    "ax2.plot(df3.index, df3['증감율(%)'],marker='o', ls='-', color='red',label='혼인 증감율 (%)')\n",
    "\n",
    "ax1.set_ylim(220000,340000)\n",
    "ax2.set_ylim(-10,6)\n",
    "\n",
    "plt.hlines(0,-1,12, color='lightgray', linestyle=':', linewidth=3)\n",
    "ax1.legend()\n",
    "ax2.legend()\n",
    "ax1.set_xlabel('연도')\n",
    "ax1.set_ylabel('혼인율')\n",
    "ax2.set_ylabel('혼인 증감율 (%)')\n",
    "ax1.set_title('혼인율')\n",
    "\n",
    "plt.show()"
   ]
  },
  {
   "cell_type": "code",
   "execution_count": null,
   "id": "c35af852",
   "metadata": {},
   "outputs": [],
   "source": []
  }
 ],
 "metadata": {
  "kernelspec": {
   "display_name": "Python 3 (ipykernel)",
   "language": "python",
   "name": "python3"
  },
  "language_info": {
   "codemirror_mode": {
    "name": "ipython",
    "version": 3
   },
   "file_extension": ".py",
   "mimetype": "text/x-python",
   "name": "python",
   "nbconvert_exporter": "python",
   "pygments_lexer": "ipython3",
   "version": "3.9.13"
  }
 },
 "nbformat": 4,
 "nbformat_minor": 5
}
